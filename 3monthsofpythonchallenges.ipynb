{
  "nbformat": 4,
  "nbformat_minor": 0,
  "metadata": {
    "colab": {
      "provenance": [],
      "authorship_tag": "ABX9TyP/entrMhrPKgJsYjB6YcMY",
      "include_colab_link": true
    },
    "kernelspec": {
      "name": "python3",
      "display_name": "Python 3"
    },
    "language_info": {
      "name": "python"
    }
  },
  "cells": [
    {
      "cell_type": "markdown",
      "metadata": {
        "id": "view-in-github",
        "colab_type": "text"
      },
      "source": [
        "<a href=\"https://colab.research.google.com/github/koleshjr/3monthsofpythoncoding/blob/main/3monthsofpythonchallenges.ipynb\" target=\"_parent\"><img src=\"https://colab.research.google.com/assets/colab-badge.svg\" alt=\"Open In Colab\"/></a>"
      ]
    },
    {
      "cell_type": "markdown",
      "source": [
        "# Lets learn together shall we"
      ],
      "metadata": {
        "id": "Ddl_00OrxSvc"
      }
    },
    {
      "cell_type": "markdown",
      "source": [
        "## Question 1:\n",
        "\n",
        "Given an array of integers, calculate the ratios of its elements that are positive, negative, and zero. Print the decimal value of each fraction on a new line with places after the decimal."
      ],
      "metadata": {
        "id": "RL4dOhlLxXHi"
      }
    },
    {
      "cell_type": "code",
      "source": [
        "import math\n",
        "\n",
        "def create_Array():\n",
        "  #create an empty list\n",
        "  arr = []\n",
        "  print('Please enter the number of elements you want in your array')\n",
        "  n = int(input())\n",
        "  print('Please populate the array with positive, negative and zero elements')\n",
        "  for i in range(0, n):\n",
        "    #init the variable item with an int value\n",
        "    item = int(input())\n",
        "    #append it to the list\n",
        "    arr.append(item)\n",
        "\n",
        "  return arr\n",
        "\n",
        "def find_Ratios(arr):\n",
        "  # find the length of the arr\n",
        "  length = len(arr)\n",
        "\n",
        "  # set the counts to 0\n",
        "  allpositives= 0\n",
        "  allnegatives = 0\n",
        "  allzeros = 0\n",
        "\n",
        "  for i in range(length):\n",
        "    if (arr[i]>0):\n",
        "      allpositives += 1\n",
        "    elif (arr[i]<0):\n",
        "      allnegatives += 1\n",
        "    elif (arr[i] == 0):\n",
        "      allzeros += 1\n",
        "  \n",
        "\n",
        "  print(f\"There are {length} total elements in the array\\n There are {allpositives} positive elements in the array \\n There are {allnegatives} negative elements in the array\")\n",
        "\n",
        "  print('All positives Ratio')\n",
        "  print(format(allpositives/length,'.6f'))\n",
        "\n",
        "  print('All negatives Ratio')\n",
        "  print(format(allnegatives/length,'.6f'))\n",
        "\n",
        "  print('All zeros Ratio')\n",
        "  print(format(allzeros/length,'.6f'))\n",
        "\n",
        "\n"
      ],
      "metadata": {
        "id": "cLX63mhdxV1n"
      },
      "execution_count": 17,
      "outputs": []
    },
    {
      "cell_type": "code",
      "source": [
        "arr = create_Array()\n",
        "print(arr)\n",
        "find_Ratios(arr)"
      ],
      "metadata": {
        "id": "rJR6GrFg2zH1",
        "outputId": "60889b73-c2d4-49b3-a7bf-7fe7d9db0147",
        "colab": {
          "base_uri": "https://localhost:8080/"
        }
      },
      "execution_count": 18,
      "outputs": [
        {
          "output_type": "stream",
          "name": "stdout",
          "text": [
            "Please enter the number of elements you want in your array\n",
            "5\n",
            "Please populate the array with positive, negative and zero elements\n",
            "5\n",
            "-9\n",
            "-2\n",
            "0\n",
            "-1\n",
            "[5, -9, -2, 0, -1]\n",
            "There are 5 total elements in the array\n",
            " There are 1 positive elements in the array \n",
            " There are 3 negative elements in the array\n",
            "All positives Ratio\n",
            "0.200000\n",
            "All negatives Ratio\n",
            "0.600000\n",
            "All zeros Ratio\n",
            "0.200000\n"
          ]
        }
      ]
    },
    {
      "cell_type": "markdown",
      "source": [
        "## Question Two\n",
        "Given five positive integers, find the minimum and maximum values that can be calculated by summing exactly four of the five integers. Then print the respective minimum and maximum values as a single line of two space-separated long integers. "
      ],
      "metadata": {
        "id": "HhlzhcYxMIWZ"
      }
    },
    {
      "cell_type": "code",
      "source": [
        "def min_Max(arr):\n",
        "  length = len(arr)\n",
        "  total = sum(arr)\n",
        "  sum_list = []\n",
        "  for i in range(0, length):\n",
        "    new_total = total - arr[i]\n",
        "    sum_list.append(new_total)\n",
        "\n",
        "  print(f'{min(sum_list)} {max(sum_list)}')\n",
        "\n"
      ],
      "metadata": {
        "id": "cTAGNBUF5hlv"
      },
      "execution_count": null,
      "outputs": []
    },
    {
      "cell_type": "code",
      "source": [
        "arr = create_Array()\n",
        "print(arr)\n",
        "min_Max(arr)"
      ],
      "metadata": {
        "id": "2erq9ISqM6eJ",
        "outputId": "6cbb6dba-bf01-4e70-d105-12eb9fb1b347",
        "colab": {
          "base_uri": "https://localhost:8080/"
        }
      },
      "execution_count": null,
      "outputs": [
        {
          "output_type": "stream",
          "name": "stdout",
          "text": [
            "Please enter the number of elements you want in your array\n",
            "5\n",
            "Please populate the array with positive, negative and zero elements\n",
            "4\n",
            "5\n",
            "8\n",
            "10\n",
            "20\n",
            "[4, 5, 8, 10, 20]\n",
            "27 43\n"
          ]
        }
      ]
    },
    {
      "cell_type": "markdown",
      "source": [
        "## Question 3\n",
        "Given a time in -hour AM/PM format, convert it to military (24-hour) time. "
      ],
      "metadata": {
        "id": "dxjpaa5QmoLy"
      }
    },
    {
      "cell_type": "code",
      "source": [
        "import datetime \n",
        "def convert_Time(s):\n",
        "  t = datetime.datetime.strptime(s, '%I:%M:%S%p')\n",
        "  result = str(t.time())\n",
        "  return result\n"
      ],
      "metadata": {
        "id": "zFksX-U0NPyA"
      },
      "execution_count": 13,
      "outputs": []
    },
    {
      "cell_type": "code",
      "source": [
        "convert_Time('07:09:45AM')"
      ],
      "metadata": {
        "id": "WGtY6cj9nHfb",
        "outputId": "5bb5544c-2880-4ff7-f226-f591e3953e4b",
        "colab": {
          "base_uri": "https://localhost:8080/",
          "height": 35
        }
      },
      "execution_count": 14,
      "outputs": [
        {
          "output_type": "execute_result",
          "data": {
            "text/plain": [
              "'07:09:45'"
            ],
            "application/vnd.google.colaboratory.intrinsic+json": {
              "type": "string"
            }
          },
          "metadata": {},
          "execution_count": 14
        }
      ]
    },
    {
      "cell_type": "code",
      "source": [
        "convert_Time('07:09:45PM')"
      ],
      "metadata": {
        "id": "5IRbucWtnOhF",
        "outputId": "6bd3abd0-1a94-41fa-d70b-5a61bec5512f",
        "colab": {
          "base_uri": "https://localhost:8080/",
          "height": 35
        }
      },
      "execution_count": 15,
      "outputs": [
        {
          "output_type": "execute_result",
          "data": {
            "text/plain": [
              "'19:09:45'"
            ],
            "application/vnd.google.colaboratory.intrinsic+json": {
              "type": "string"
            }
          },
          "metadata": {},
          "execution_count": 15
        }
      ]
    },
    {
      "cell_type": "code",
      "source": [],
      "metadata": {
        "id": "8jhmkRxYphLg"
      },
      "execution_count": null,
      "outputs": []
    }
  ]
}