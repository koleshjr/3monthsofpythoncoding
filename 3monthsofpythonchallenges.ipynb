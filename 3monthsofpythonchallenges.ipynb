{
  "nbformat": 4,
  "nbformat_minor": 0,
  "metadata": {
    "colab": {
      "provenance": [],
      "authorship_tag": "ABX9TyOLQhl4yLXi4g4XSSM8DntE",
      "include_colab_link": true
    },
    "kernelspec": {
      "name": "python3",
      "display_name": "Python 3"
    },
    "language_info": {
      "name": "python"
    }
  },
  "cells": [
    {
      "cell_type": "markdown",
      "metadata": {
        "id": "view-in-github",
        "colab_type": "text"
      },
      "source": [
        "<a href=\"https://colab.research.google.com/github/koleshjr/3monthsofpythoncoding/blob/main/3monthsofpythonchallenges.ipynb\" target=\"_parent\"><img src=\"https://colab.research.google.com/assets/colab-badge.svg\" alt=\"Open In Colab\"/></a>"
      ]
    },
    {
      "cell_type": "markdown",
      "source": [
        "# Lets learn together shall we"
      ],
      "metadata": {
        "id": "Ddl_00OrxSvc"
      }
    },
    {
      "cell_type": "markdown",
      "source": [
        "## Question 1:\n",
        "\n",
        "Given an array of integers, calculate the ratios of its elements that are positive, negative, and zero. Print the decimal value of each fraction on a new line with places after the decimal."
      ],
      "metadata": {
        "id": "RL4dOhlLxXHi"
      }
    },
    {
      "cell_type": "code",
      "source": [
        "import math\n",
        "\n",
        "def create_Array():\n",
        "  #create an empty list\n",
        "  arr = []\n",
        "  print('Please enter the number of elements you want in your array')\n",
        "  n = int(input())\n",
        "  print('Please populate the array with positive, negative and zero elements')\n",
        "  for i in range(0, n):\n",
        "    #init the variable item with an int value\n",
        "    item = int(input())\n",
        "    #append it to the list\n",
        "    arr.append(item)\n",
        "\n",
        "  return arr\n",
        "\n",
        "def find_Ratios(arr):\n",
        "  # find the length of the arr\n",
        "  length = len(arr)\n",
        "\n",
        "  # set the counts to 0\n",
        "  allpositives= 0\n",
        "  allnegatives = 0\n",
        "  allzeros = 0\n",
        "\n",
        "  for i in range(length):\n",
        "    if (arr[i]>0):\n",
        "      allpositives += 1\n",
        "    elif (arr[i]<0):\n",
        "      allnegatives += 1\n",
        "    elif (arr[i] == 0):\n",
        "      allzeros += 1\n",
        "  \n",
        "\n",
        "  print(f\"There are {length} total elements in the array\\n There are {allpositives} positive elements in the array \\n There are {allnegatives} negative elements in the array\")\n",
        "\n",
        "  print('All positives Ratio')\n",
        "  print(format(allpositives/length,'.6f'))\n",
        "\n",
        "  print('All negatives Ratio')\n",
        "  print(format(allnegatives/length,'.6f'))\n",
        "\n",
        "  print('All zeros Ratio')\n",
        "  print(format(allzeros/length,'.6f'))\n",
        "\n",
        "\n"
      ],
      "metadata": {
        "id": "cLX63mhdxV1n"
      },
      "execution_count": 3,
      "outputs": []
    },
    {
      "cell_type": "code",
      "source": [
        "arr = create_Array()\n",
        "print(arr)\n",
        "find_Ratios(arr)"
      ],
      "metadata": {
        "colab": {
          "base_uri": "https://localhost:8080/"
        },
        "id": "rJR6GrFg2zH1",
        "outputId": "4b6be818-c40c-4676-b7c2-e67cfc527fc8"
      },
      "execution_count": 4,
      "outputs": [
        {
          "output_type": "stream",
          "name": "stdout",
          "text": [
            "Please enter the number of elements you want in your array\n",
            "10\n",
            "Please populate the array with positive, negative and zero elements\n",
            "-2\n",
            "-3\n",
            "-4\n",
            "-5\n",
            "-6\n",
            "9\n",
            "12\n",
            "0\n",
            "3\n",
            "-5\n",
            "[-2, -3, -4, -5, -6, 9, 12, 0, 3, -5]\n",
            "There are 10 total elements in the array\n",
            " There are 3 positive elements in the array \n",
            " There are 6 negative elements in the array\n",
            "All positives Ratio\n",
            "0.300000\n",
            "All negatives Ratio\n",
            "0.600000\n",
            "All zeros Ratio\n",
            "0.100000\n"
          ]
        }
      ]
    },
    {
      "cell_type": "code",
      "source": [],
      "metadata": {
        "id": "cTAGNBUF5hlv"
      },
      "execution_count": null,
      "outputs": []
    }
  ]
}