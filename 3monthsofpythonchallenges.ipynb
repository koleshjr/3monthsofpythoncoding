{
  "nbformat": 4,
  "nbformat_minor": 0,
  "metadata": {
    "colab": {
      "provenance": [],
      "authorship_tag": "ABX9TyOQsDYVtfKCC+YInHhgFaJv",
      "include_colab_link": true
    },
    "kernelspec": {
      "name": "python3",
      "display_name": "Python 3"
    },
    "language_info": {
      "name": "python"
    }
  },
  "cells": [
    {
      "cell_type": "markdown",
      "metadata": {
        "id": "view-in-github",
        "colab_type": "text"
      },
      "source": [
        "<a href=\"https://colab.research.google.com/github/koleshjr/3monthsofpythoncoding/blob/main/3monthsofpythonchallenges.ipynb\" target=\"_parent\"><img src=\"https://colab.research.google.com/assets/colab-badge.svg\" alt=\"Open In Colab\"/></a>"
      ]
    },
    {
      "cell_type": "markdown",
      "source": [
        "# Lets learn together shall we"
      ],
      "metadata": {
        "id": "Ddl_00OrxSvc"
      }
    },
    {
      "cell_type": "markdown",
      "source": [
        "## Question 1:\n",
        "\n",
        "Given an array of integers, calculate the ratios of its elements that are positive, negative, and zero. Print the decimal value of each fraction on a new line with places after the decimal."
      ],
      "metadata": {
        "id": "RL4dOhlLxXHi"
      }
    },
    {
      "cell_type": "code",
      "source": [
        "import math\n",
        "\n",
        "def create_Array():\n",
        "  #create an empty list\n",
        "  arr = []\n",
        "  print('Please enter the number of elements you want in your array')\n",
        "  n = int(input())\n",
        "  print('Please populate the array with positive, negative and zero elements')\n",
        "  for i in range(0, n):\n",
        "    #init the variable item with an int value\n",
        "    item = int(input())\n",
        "    #append it to the list\n",
        "    arr.append(item)\n",
        "\n",
        "  return arr\n",
        "\n",
        "def find_Ratios(arr):\n",
        "  # find the length of the arr\n",
        "  length = len(arr)\n",
        "\n",
        "  # set the counts to 0\n",
        "  allpositives= 0\n",
        "  allnegatives = 0\n",
        "  allzeros = 0\n",
        "\n",
        "  for i in range(length):\n",
        "    if (arr[i]>0):\n",
        "      allpositives += 1\n",
        "    elif (arr[i]<0):\n",
        "      allnegatives += 1\n",
        "    elif (arr[i] == 0):\n",
        "      allzeros += 1\n",
        "  \n",
        "\n",
        "  print(f\"There are {length} total elements in the array\\n There are {allpositives} positive elements in the array \\n There are {allnegatives} negative elements in the array\")\n",
        "\n",
        "  print('All positives Ratio')\n",
        "  print(format(allpositives/length,'.6f'))\n",
        "\n",
        "  print('All negatives Ratio')\n",
        "  print(format(allnegatives/length,'.6f'))\n",
        "\n",
        "  print('All zeros Ratio')\n",
        "  print(format(allzeros/length,'.6f'))\n",
        "\n",
        "\n"
      ],
      "metadata": {
        "id": "cLX63mhdxV1n"
      },
      "execution_count": null,
      "outputs": []
    },
    {
      "cell_type": "code",
      "source": [
        "arr = create_Array()\n",
        "print(arr)\n",
        "find_Ratios(arr)"
      ],
      "metadata": {
        "id": "rJR6GrFg2zH1",
        "outputId": "60889b73-c2d4-49b3-a7bf-7fe7d9db0147",
        "colab": {
          "base_uri": "https://localhost:8080/"
        }
      },
      "execution_count": null,
      "outputs": [
        {
          "output_type": "stream",
          "name": "stdout",
          "text": [
            "Please enter the number of elements you want in your array\n",
            "5\n",
            "Please populate the array with positive, negative and zero elements\n",
            "5\n",
            "-9\n",
            "-2\n",
            "0\n",
            "-1\n",
            "[5, -9, -2, 0, -1]\n",
            "There are 5 total elements in the array\n",
            " There are 1 positive elements in the array \n",
            " There are 3 negative elements in the array\n",
            "All positives Ratio\n",
            "0.200000\n",
            "All negatives Ratio\n",
            "0.600000\n",
            "All zeros Ratio\n",
            "0.200000\n"
          ]
        }
      ]
    },
    {
      "cell_type": "markdown",
      "source": [
        "## Question Two\n",
        "Given five positive integers, find the minimum and maximum values that can be calculated by summing exactly four of the five integers. Then print the respective minimum and maximum values as a single line of two space-separated long integers. "
      ],
      "metadata": {
        "id": "HhlzhcYxMIWZ"
      }
    },
    {
      "cell_type": "code",
      "source": [
        "def min_Max(arr):\n",
        "  length = len(arr)\n",
        "  total = sum(arr)\n",
        "  sum_list = []\n",
        "  for i in range(0, length):\n",
        "    new_total = total - arr[i]\n",
        "    sum_list.append(new_total)\n",
        "\n",
        "  print(f'{min(sum_list)} {max(sum_list)}')\n",
        "\n"
      ],
      "metadata": {
        "id": "cTAGNBUF5hlv"
      },
      "execution_count": null,
      "outputs": []
    },
    {
      "cell_type": "code",
      "source": [
        "arr = create_Array()\n",
        "print(arr)\n",
        "min_Max(arr)"
      ],
      "metadata": {
        "id": "2erq9ISqM6eJ",
        "outputId": "6cbb6dba-bf01-4e70-d105-12eb9fb1b347",
        "colab": {
          "base_uri": "https://localhost:8080/"
        }
      },
      "execution_count": null,
      "outputs": [
        {
          "output_type": "stream",
          "name": "stdout",
          "text": [
            "Please enter the number of elements you want in your array\n",
            "5\n",
            "Please populate the array with positive, negative and zero elements\n",
            "4\n",
            "5\n",
            "8\n",
            "10\n",
            "20\n",
            "[4, 5, 8, 10, 20]\n",
            "27 43\n"
          ]
        }
      ]
    },
    {
      "cell_type": "markdown",
      "source": [
        "## Question 3\n",
        "Given a time in -hour AM/PM format, convert it to military (24-hour) time. "
      ],
      "metadata": {
        "id": "dxjpaa5QmoLy"
      }
    },
    {
      "cell_type": "code",
      "source": [
        "import datetime \n",
        "def convert_Time(s):\n",
        "  t = datetime.datetime.strptime(s, '%I:%M:%S%p')\n",
        "  result = str(t.time())\n",
        "  return result\n"
      ],
      "metadata": {
        "id": "zFksX-U0NPyA"
      },
      "execution_count": null,
      "outputs": []
    },
    {
      "cell_type": "code",
      "source": [
        "convert_Time('07:09:45AM')"
      ],
      "metadata": {
        "id": "WGtY6cj9nHfb",
        "outputId": "5bb5544c-2880-4ff7-f226-f591e3953e4b",
        "colab": {
          "base_uri": "https://localhost:8080/",
          "height": 35
        }
      },
      "execution_count": null,
      "outputs": [
        {
          "output_type": "execute_result",
          "data": {
            "text/plain": [
              "'07:09:45'"
            ],
            "application/vnd.google.colaboratory.intrinsic+json": {
              "type": "string"
            }
          },
          "metadata": {},
          "execution_count": 14
        }
      ]
    },
    {
      "cell_type": "code",
      "source": [
        "convert_Time('07:09:45PM')"
      ],
      "metadata": {
        "id": "5IRbucWtnOhF",
        "outputId": "6bd3abd0-1a94-41fa-d70b-5a61bec5512f",
        "colab": {
          "base_uri": "https://localhost:8080/",
          "height": 35
        }
      },
      "execution_count": null,
      "outputs": [
        {
          "output_type": "execute_result",
          "data": {
            "text/plain": [
              "'19:09:45'"
            ],
            "application/vnd.google.colaboratory.intrinsic+json": {
              "type": "string"
            }
          },
          "metadata": {},
          "execution_count": 15
        }
      ]
    },
    {
      "cell_type": "markdown",
      "source": [
        "## Question 4\n",
        "\n",
        "Maria plays college basketball and wants to go pro. Each season she maintains a record of her play. She tabulates the number of times she breaks her season record for most points and least points in a game. Points scored in the first game establish her record for the season, and she begins counting from there."
      ],
      "metadata": {
        "id": "YDufYaeHanF0"
      }
    },
    {
      "cell_type": "code",
      "source": [
        "def break_Records(scores):\n",
        "  most = scores[0]\n",
        "  least = scores[0]\n",
        "  allmost = 0\n",
        "  allleast=0\n",
        "  result=[]\n",
        "\n",
        "  for i in range(0, len(scores)):\n",
        "    if scores[i] > most:\n",
        "      most = scores[i]\n",
        "      allmost+=1\n",
        "    elif scores[i]< least:\n",
        "      least = scores[i]\n",
        "      allleast+=1\n",
        "\n",
        "  result.append(allleast)\n",
        "  result.append(allmost)\n",
        "  return result\n"
      ],
      "metadata": {
        "id": "8jhmkRxYphLg"
      },
      "execution_count": null,
      "outputs": []
    },
    {
      "cell_type": "code",
      "source": [
        "scores = [ 10, 5, 12, 4, 23, 6, 2, 25]\n",
        "break_Records(scores)"
      ],
      "metadata": {
        "id": "QQAj_65ecHb9",
        "outputId": "7d2abc1d-a878-41c2-bf6c-5a451041f5ac",
        "colab": {
          "base_uri": "https://localhost:8080/"
        }
      },
      "execution_count": null,
      "outputs": [
        {
          "output_type": "execute_result",
          "data": {
            "text/plain": [
              "[3, 3]"
            ]
          },
          "metadata": {},
          "execution_count": 11
        }
      ]
    },
    {
      "cell_type": "markdown",
      "source": [
        "###BONUS String Manipulation\n",
        "Given a string, , of length that is indexed from to , print its even-indexed and odd-indexed characters as space-separated strings on a single line (see the Sample below for more detail). "
      ],
      "metadata": {
        "id": "9Ayl1hFl-s-2"
      }
    },
    {
      "cell_type": "code",
      "source": [
        "def string_Manipulation():\n",
        "  T = int(input())\n",
        "  for i in range (T):\n",
        "    S= input()\n",
        "    print ( S[0::2] + \" \" + S[1::2])"
      ],
      "metadata": {
        "id": "fOz9s9xL-0bm"
      },
      "execution_count": 57,
      "outputs": []
    },
    {
      "cell_type": "code",
      "source": [
        "string_Manipulation()"
      ],
      "metadata": {
        "colab": {
          "base_uri": "https://localhost:8080/"
        },
        "id": "V_-QluWm_bGS",
        "outputId": "96aaec3d-d617-49dd-c8fc-4c1c95f72d74"
      },
      "execution_count": 59,
      "outputs": [
        {
          "output_type": "stream",
          "name": "stdout",
          "text": [
            "2\n",
            "Datascience\n",
            "Dtsine aacec\n",
            "Machinelearning\n",
            "Mcieerig ahnlann\n"
          ]
        }
      ]
    },
    {
      "cell_type": "markdown",
      "source": [
        "### BONUS OOP PYTHON"
      ],
      "metadata": {
        "id": "EBPGaYe0-mWs"
      }
    },
    {
      "cell_type": "code",
      "source": [
        "class Person:\n",
        "    def __init__(self,initialAge):\n",
        "        # Add some more code to run some checks on initialAge\n",
        "        if (initialAge > 0 ):\n",
        "            self.Age = initialAge\n",
        "\n",
        "        elif(initialAge < 0):\n",
        "            self.Age = 0\n",
        "            print(\"Age is not valid, setting age to 0.\")\n",
        "            \n",
        "    def amIOld(self):\n",
        "        # Do some computations in here and print out the correct statement to the console\n",
        "        if (self.Age < 13):\n",
        "            print(\"You are young.\")\n",
        "        elif self.Age>=13 and self.Age< 18:\n",
        "            print(\"You are a teenager.\")\n",
        "        elif(self.Age >= 18):\n",
        "            print(\"You are old.\")\n",
        "    def yearPasses(self):\n",
        "        # Increment the age of the person in here\n",
        "        self.Age += 1\n",
        "        return self.Age\n",
        "\n",
        "t = int(input())"
      ],
      "metadata": {
        "id": "RtZ7lTLycU8_",
        "colab": {
          "base_uri": "https://localhost:8080/"
        },
        "outputId": "082dc24d-1fdd-41fd-8bf3-2a13d3dc0979"
      },
      "execution_count": 63,
      "outputs": [
        {
          "name": "stdout",
          "output_type": "stream",
          "text": [
            "18\n"
          ]
        }
      ]
    },
    {
      "cell_type": "code",
      "source": [
        "steve = Person(t)\n",
        "steve.amIOld()\n",
        "steve.yearPasses()"
      ],
      "metadata": {
        "colab": {
          "base_uri": "https://localhost:8080/"
        },
        "id": "-MIkLzWm-kvK",
        "outputId": "5c4f9c85-031b-44dc-aed3-828fb06b2376"
      },
      "execution_count": 65,
      "outputs": [
        {
          "output_type": "stream",
          "name": "stdout",
          "text": [
            "You are old.\n"
          ]
        },
        {
          "output_type": "execute_result",
          "data": {
            "text/plain": [
              "19"
            ]
          },
          "metadata": {},
          "execution_count": 65
        }
      ]
    },
    {
      "cell_type": "markdown",
      "source": [
        "### Bonus Reverse List"
      ],
      "metadata": {
        "id": "GpfXeUA5IgQH"
      }
    },
    {
      "cell_type": "code",
      "source": [
        "def reverse_List():\n",
        "  arr = list(map(int, input().rstrip().split()))\n",
        "  for i in reversed(arr):\n",
        "    print(i, end=' ')"
      ],
      "metadata": {
        "id": "azFWm_iCABS0"
      },
      "execution_count": 87,
      "outputs": []
    },
    {
      "cell_type": "code",
      "source": [
        "reverse_List()"
      ],
      "metadata": {
        "colab": {
          "base_uri": "https://localhost:8080/"
        },
        "id": "Rg1HDgKmE6jz",
        "outputId": "f0aa8184-a7eb-4c12-b72a-f91b550ec8da"
      },
      "execution_count": 88,
      "outputs": [
        {
          "output_type": "stream",
          "name": "stdout",
          "text": [
            "3 4 5 6 7 8 9 10 11\n",
            "11 10 9 8 7 6 5 4 3 "
          ]
        }
      ]
    },
    {
      "cell_type": "markdown",
      "source": [
        "### Bonus Dictionary Update and lookup"
      ],
      "metadata": {
        "id": "_A7H1WwUuRmW"
      }
    },
    {
      "cell_type": "code",
      "source": [
        "\n",
        "\n",
        "for i in range(n):\n",
        "    info = list(map(str, input().rstrip().split()))\n",
        "    dictt[info[0]] = info[1]\n",
        "\n",
        "while True:\n",
        "  try:\n",
        "    query = input()\n",
        "    if query in dictt:\n",
        "      print(query + \"=\" + dictt[query])\n",
        "    else:\n",
        "      print(\"Not found\")\n",
        "    \n",
        "  except EOFError:\n",
        "    break\n",
        "    \n",
        "\n",
        "    "
      ],
      "metadata": {
        "colab": {
          "base_uri": "https://localhost:8080/",
          "height": 643
        },
        "id": "gvZNaCOQFF-Q",
        "outputId": "5906eedd-c9f0-411f-b83d-713b0484330f"
      },
      "execution_count": 100,
      "outputs": [
        {
          "output_type": "stream",
          "name": "stdout",
          "text": [
            "steve 074039304\n",
            "kev 076858484\n",
            "zero 0567389238\n",
            "zero\n",
            "zero=0567389238\n",
            "steve\n",
            "steve=074039304\n",
            "kez\n",
            "kez=0869588458\n",
            "ju\n",
            "Not found\n",
            "tryr\n",
            "Not found\n",
            "\n",
            "Not found\n"
          ]
        },
        {
          "output_type": "error",
          "ename": "KeyboardInterrupt",
          "evalue": "ignored",
          "traceback": [
            "\u001b[0;31m---------------------------------------------------------------------------\u001b[0m",
            "\u001b[0;31mKeyboardInterrupt\u001b[0m                         Traceback (most recent call last)",
            "\u001b[0;32m<ipython-input-100-d98362cf4e7c>\u001b[0m in \u001b[0;36m<module>\u001b[0;34m\u001b[0m\n\u001b[1;32m      5\u001b[0m \u001b[0;32mwhile\u001b[0m \u001b[0;32mTrue\u001b[0m\u001b[0;34m:\u001b[0m\u001b[0;34m\u001b[0m\u001b[0;34m\u001b[0m\u001b[0m\n\u001b[1;32m      6\u001b[0m   \u001b[0;32mtry\u001b[0m\u001b[0;34m:\u001b[0m\u001b[0;34m\u001b[0m\u001b[0;34m\u001b[0m\u001b[0m\n\u001b[0;32m----> 7\u001b[0;31m     \u001b[0mquery\u001b[0m \u001b[0;34m=\u001b[0m \u001b[0minput\u001b[0m\u001b[0;34m(\u001b[0m\u001b[0;34m)\u001b[0m\u001b[0;34m\u001b[0m\u001b[0;34m\u001b[0m\u001b[0m\n\u001b[0m\u001b[1;32m      8\u001b[0m     \u001b[0;32mif\u001b[0m \u001b[0mquery\u001b[0m \u001b[0;32min\u001b[0m \u001b[0mdictt\u001b[0m\u001b[0;34m:\u001b[0m\u001b[0;34m\u001b[0m\u001b[0;34m\u001b[0m\u001b[0m\n\u001b[1;32m      9\u001b[0m       \u001b[0mprint\u001b[0m\u001b[0;34m(\u001b[0m\u001b[0mquery\u001b[0m \u001b[0;34m+\u001b[0m \u001b[0;34m\"=\"\u001b[0m \u001b[0;34m+\u001b[0m \u001b[0mdictt\u001b[0m\u001b[0;34m[\u001b[0m\u001b[0mquery\u001b[0m\u001b[0;34m]\u001b[0m\u001b[0;34m)\u001b[0m\u001b[0;34m\u001b[0m\u001b[0;34m\u001b[0m\u001b[0m\n",
            "\u001b[0;32m/usr/local/lib/python3.7/dist-packages/ipykernel/kernelbase.py\u001b[0m in \u001b[0;36mraw_input\u001b[0;34m(self, prompt)\u001b[0m\n\u001b[1;32m    861\u001b[0m             \u001b[0mself\u001b[0m\u001b[0;34m.\u001b[0m\u001b[0m_parent_ident\u001b[0m\u001b[0;34m,\u001b[0m\u001b[0;34m\u001b[0m\u001b[0;34m\u001b[0m\u001b[0m\n\u001b[1;32m    862\u001b[0m             \u001b[0mself\u001b[0m\u001b[0;34m.\u001b[0m\u001b[0m_parent_header\u001b[0m\u001b[0;34m,\u001b[0m\u001b[0;34m\u001b[0m\u001b[0;34m\u001b[0m\u001b[0m\n\u001b[0;32m--> 863\u001b[0;31m             \u001b[0mpassword\u001b[0m\u001b[0;34m=\u001b[0m\u001b[0;32mFalse\u001b[0m\u001b[0;34m,\u001b[0m\u001b[0;34m\u001b[0m\u001b[0;34m\u001b[0m\u001b[0m\n\u001b[0m\u001b[1;32m    864\u001b[0m         )\n\u001b[1;32m    865\u001b[0m \u001b[0;34m\u001b[0m\u001b[0m\n",
            "\u001b[0;32m/usr/local/lib/python3.7/dist-packages/ipykernel/kernelbase.py\u001b[0m in \u001b[0;36m_input_request\u001b[0;34m(self, prompt, ident, parent, password)\u001b[0m\n\u001b[1;32m    902\u001b[0m             \u001b[0;32mexcept\u001b[0m \u001b[0mKeyboardInterrupt\u001b[0m\u001b[0;34m:\u001b[0m\u001b[0;34m\u001b[0m\u001b[0;34m\u001b[0m\u001b[0m\n\u001b[1;32m    903\u001b[0m                 \u001b[0;31m# re-raise KeyboardInterrupt, to truncate traceback\u001b[0m\u001b[0;34m\u001b[0m\u001b[0;34m\u001b[0m\u001b[0;34m\u001b[0m\u001b[0m\n\u001b[0;32m--> 904\u001b[0;31m                 \u001b[0;32mraise\u001b[0m \u001b[0mKeyboardInterrupt\u001b[0m\u001b[0;34m(\u001b[0m\u001b[0;34m\"Interrupted by user\"\u001b[0m\u001b[0;34m)\u001b[0m \u001b[0;32mfrom\u001b[0m \u001b[0;32mNone\u001b[0m\u001b[0;34m\u001b[0m\u001b[0;34m\u001b[0m\u001b[0m\n\u001b[0m\u001b[1;32m    905\u001b[0m             \u001b[0;32mexcept\u001b[0m \u001b[0mException\u001b[0m \u001b[0;32mas\u001b[0m \u001b[0me\u001b[0m\u001b[0;34m:\u001b[0m\u001b[0;34m\u001b[0m\u001b[0;34m\u001b[0m\u001b[0m\n\u001b[1;32m    906\u001b[0m                 \u001b[0mself\u001b[0m\u001b[0;34m.\u001b[0m\u001b[0mlog\u001b[0m\u001b[0;34m.\u001b[0m\u001b[0mwarning\u001b[0m\u001b[0;34m(\u001b[0m\u001b[0;34m\"Invalid Message:\"\u001b[0m\u001b[0;34m,\u001b[0m \u001b[0mexc_info\u001b[0m\u001b[0;34m=\u001b[0m\u001b[0;32mTrue\u001b[0m\u001b[0;34m)\u001b[0m\u001b[0;34m\u001b[0m\u001b[0;34m\u001b[0m\u001b[0m\n",
            "\u001b[0;31mKeyboardInterrupt\u001b[0m: Interrupted by user"
          ]
        }
      ]
    },
    {
      "cell_type": "markdown",
      "source": [
        "## Bonus: Recursive Function"
      ],
      "metadata": {
        "id": "216xhUYSxtuj"
      }
    },
    {
      "cell_type": "code",
      "source": [
        "n = int(input().strip())\n",
        "def factorial(n):\n",
        "  if n ==1:\n",
        "    return 1\n",
        "  else:\n",
        "    return n * factorial(n-1)\n",
        "\n",
        "\n",
        "factorial(n)\n"
      ],
      "metadata": {
        "colab": {
          "base_uri": "https://localhost:8080/"
        },
        "id": "wBuamXxYp-wy",
        "outputId": "d7027663-3df2-4f30-c066-ce91d652d4a9"
      },
      "execution_count": 109,
      "outputs": [
        {
          "name": "stdout",
          "output_type": "stream",
          "text": [
            "5\n"
          ]
        },
        {
          "output_type": "execute_result",
          "data": {
            "text/plain": [
              "120"
            ]
          },
          "metadata": {},
          "execution_count": 109
        }
      ]
    },
    {
      "cell_type": "code",
      "source": [],
      "metadata": {
        "id": "Y5azU5WDxMSW",
        "outputId": "88a147c3-f036-4214-f720-325a94e9d835",
        "colab": {
          "base_uri": "https://localhost:8080/"
        }
      },
      "execution_count": 106,
      "outputs": [
        {
          "output_type": "execute_result",
          "data": {
            "text/plain": [
              "6"
            ]
          },
          "metadata": {},
          "execution_count": 106
        }
      ]
    },
    {
      "cell_type": "code",
      "source": [],
      "metadata": {
        "id": "-fZHuxpdxQX_"
      },
      "execution_count": null,
      "outputs": []
    }
  ]
}