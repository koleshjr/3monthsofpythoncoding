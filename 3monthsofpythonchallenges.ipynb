{
  "nbformat": 4,
  "nbformat_minor": 0,
  "metadata": {
    "colab": {
      "provenance": [],
      "authorship_tag": "ABX9TyP71kQ31a10znHde2vvZHNi",
      "include_colab_link": true
    },
    "kernelspec": {
      "name": "python3",
      "display_name": "Python 3"
    },
    "language_info": {
      "name": "python"
    }
  },
  "cells": [
    {
      "cell_type": "markdown",
      "metadata": {
        "id": "view-in-github",
        "colab_type": "text"
      },
      "source": [
        "<a href=\"https://colab.research.google.com/github/koleshjr/3monthsofpythoncoding/blob/main/3monthsofpythonchallenges.ipynb\" target=\"_parent\"><img src=\"https://colab.research.google.com/assets/colab-badge.svg\" alt=\"Open In Colab\"/></a>"
      ]
    },
    {
      "cell_type": "markdown",
      "source": [
        "# Lets learn together shall we"
      ],
      "metadata": {
        "id": "Ddl_00OrxSvc"
      }
    },
    {
      "cell_type": "markdown",
      "source": [
        "#### Arrays\n",
        "* Arrays in python are dynamic meaning they have an overhead of copying all elements and creating extra memory in  geometric progression fashion\n",
        "\n",
        "#### 2D Arrays \n",
        "* A lists of lists\n",
        "* Access the first list A[0]\n",
        "* Access the first element in the first list A[0][0]\n",
        "* Iteration is for row in and for item in row\n",
        "\n"
      ],
      "metadata": {
        "id": "iPG8gdfBRSsO"
      }
    },
    {
      "cell_type": "markdown",
      "source": [
        "## Question 1:\n",
        "\n",
        "Given an array of integers, calculate the ratios of its elements that are positive, negative, and zero. Print the decimal value of each fraction on a new line with places after the decimal."
      ],
      "metadata": {
        "id": "RL4dOhlLxXHi"
      }
    },
    {
      "cell_type": "code",
      "source": [
        "import math\n",
        "\n",
        "def create_Array():\n",
        "  #create an empty list\n",
        "  arr = []\n",
        "  print('Please enter the number of elements you want in your array')\n",
        "  n = int(input())\n",
        "  print('Please populate the array with positive, negative and zero elements')\n",
        "  for i in range(n):\n",
        "    #init the variable item with an int value\n",
        "    item = int(input())\n",
        "    #append it to the list\n",
        "    arr.append(item)\n",
        "\n",
        "  return arr\n",
        "\n",
        "def find_Ratios(arr):\n",
        "  # find the length of the arr\n",
        "  length = len(arr)\n",
        "\n",
        "  # set the counts to 0\n",
        "  allpositives= 0\n",
        "  allnegatives = 0\n",
        "  allzeros = 0\n",
        "\n",
        "  for i in range(length):\n",
        "    if (arr[i]>0):\n",
        "      allpositives += 1\n",
        "    elif (arr[i]<0):\n",
        "      allnegatives += 1\n",
        "    elif (arr[i] == 0):\n",
        "      allzeros += 1\n",
        "  \n",
        "\n",
        "  print(f\"There are {length} total elements in the array\\n There are {allpositives} positive elements in the array \\n There are {allnegatives} negative elements in the array\")\n",
        "\n",
        "  print('All positives Ratio')\n",
        "  print(format(allpositives/length,'.6f'))\n",
        "\n",
        "  print('All negatives Ratio')\n",
        "  print(format(allnegatives/length,'.6f'))\n",
        "\n",
        "  print('All zeros Ratio')\n",
        "  print(format(allzeros/length,'.6f'))\n",
        "\n",
        "\n"
      ],
      "metadata": {
        "id": "cLX63mhdxV1n"
      },
      "execution_count": null,
      "outputs": []
    },
    {
      "cell_type": "code",
      "source": [
        "arr = create_Array()\n",
        "print(arr)\n",
        "find_Ratios(arr)"
      ],
      "metadata": {
        "id": "rJR6GrFg2zH1",
        "outputId": "60889b73-c2d4-49b3-a7bf-7fe7d9db0147",
        "colab": {
          "base_uri": "https://localhost:8080/"
        }
      },
      "execution_count": null,
      "outputs": [
        {
          "output_type": "stream",
          "name": "stdout",
          "text": [
            "Please enter the number of elements you want in your array\n",
            "5\n",
            "Please populate the array with positive, negative and zero elements\n",
            "5\n",
            "-9\n",
            "-2\n",
            "0\n",
            "-1\n",
            "[5, -9, -2, 0, -1]\n",
            "There are 5 total elements in the array\n",
            " There are 1 positive elements in the array \n",
            " There are 3 negative elements in the array\n",
            "All positives Ratio\n",
            "0.200000\n",
            "All negatives Ratio\n",
            "0.600000\n",
            "All zeros Ratio\n",
            "0.200000\n"
          ]
        }
      ]
    },
    {
      "cell_type": "markdown",
      "source": [
        "## Question Two\n",
        "Given five positive integers, find the minimum and maximum values that can be calculated by summing exactly four of the five integers. Then print the respective minimum and maximum values as a single line of two space-separated long integers. "
      ],
      "metadata": {
        "id": "HhlzhcYxMIWZ"
      }
    },
    {
      "cell_type": "code",
      "source": [
        "def min_Max(arr):\n",
        "  length = len(arr)\n",
        "  total = sum(arr)\n",
        "  sum_list = []\n",
        "  for i in range(0, length):\n",
        "    new_total = total - arr[i]\n",
        "    sum_list.append(new_total)\n",
        "\n",
        "  print(f'{min(sum_list)} {max(sum_list)}')\n",
        "\n"
      ],
      "metadata": {
        "id": "cTAGNBUF5hlv"
      },
      "execution_count": null,
      "outputs": []
    },
    {
      "cell_type": "code",
      "source": [
        "arr = create_Array()\n",
        "print(arr)\n",
        "min_Max(arr)"
      ],
      "metadata": {
        "id": "2erq9ISqM6eJ",
        "outputId": "6cbb6dba-bf01-4e70-d105-12eb9fb1b347",
        "colab": {
          "base_uri": "https://localhost:8080/"
        }
      },
      "execution_count": null,
      "outputs": [
        {
          "output_type": "stream",
          "name": "stdout",
          "text": [
            "Please enter the number of elements you want in your array\n",
            "5\n",
            "Please populate the array with positive, negative and zero elements\n",
            "4\n",
            "5\n",
            "8\n",
            "10\n",
            "20\n",
            "[4, 5, 8, 10, 20]\n",
            "27 43\n"
          ]
        }
      ]
    },
    {
      "cell_type": "markdown",
      "source": [
        "## Question 3\n",
        "Given a time in -hour AM/PM format, convert it to military (24-hour) time. "
      ],
      "metadata": {
        "id": "dxjpaa5QmoLy"
      }
    },
    {
      "cell_type": "code",
      "source": [
        "import datetime \n",
        "def convert_Time(s):\n",
        "  t = datetime.datetime.strptime(s, '%I:%M:%S%p')\n",
        "  result = str(t.time())\n",
        "  return result\n"
      ],
      "metadata": {
        "id": "zFksX-U0NPyA"
      },
      "execution_count": null,
      "outputs": []
    },
    {
      "cell_type": "code",
      "source": [
        "convert_Time('07:09:45AM')"
      ],
      "metadata": {
        "id": "WGtY6cj9nHfb",
        "outputId": "5bb5544c-2880-4ff7-f226-f591e3953e4b",
        "colab": {
          "base_uri": "https://localhost:8080/",
          "height": 35
        }
      },
      "execution_count": null,
      "outputs": [
        {
          "output_type": "execute_result",
          "data": {
            "text/plain": [
              "'07:09:45'"
            ],
            "application/vnd.google.colaboratory.intrinsic+json": {
              "type": "string"
            }
          },
          "metadata": {},
          "execution_count": 14
        }
      ]
    },
    {
      "cell_type": "code",
      "source": [
        "convert_Time('07:09:45PM')"
      ],
      "metadata": {
        "id": "5IRbucWtnOhF",
        "outputId": "6bd3abd0-1a94-41fa-d70b-5a61bec5512f",
        "colab": {
          "base_uri": "https://localhost:8080/",
          "height": 35
        }
      },
      "execution_count": null,
      "outputs": [
        {
          "output_type": "execute_result",
          "data": {
            "text/plain": [
              "'19:09:45'"
            ],
            "application/vnd.google.colaboratory.intrinsic+json": {
              "type": "string"
            }
          },
          "metadata": {},
          "execution_count": 15
        }
      ]
    },
    {
      "cell_type": "markdown",
      "source": [
        "## Question 4\n",
        "\n",
        "Maria plays college basketball and wants to go pro. Each season she maintains a record of her play. She tabulates the number of times she breaks her season record for most points and least points in a game. Points scored in the first game establish her record for the season, and she begins counting from there."
      ],
      "metadata": {
        "id": "YDufYaeHanF0"
      }
    },
    {
      "cell_type": "code",
      "source": [
        "def break_Records(scores):\n",
        "  most = scores[0]\n",
        "  least = scores[0]\n",
        "  allmost = 0\n",
        "  allleast=0\n",
        "  result=[]\n",
        "\n",
        "  for i in range(0, len(scores)):\n",
        "    if scores[i] > most:\n",
        "      most = scores[i]\n",
        "      allmost+=1\n",
        "    elif scores[i]< least:\n",
        "      least = scores[i]\n",
        "      allleast+=1\n",
        "\n",
        "  result.append(allleast)\n",
        "  result.append(allmost)\n",
        "  return result\n"
      ],
      "metadata": {
        "id": "8jhmkRxYphLg"
      },
      "execution_count": null,
      "outputs": []
    },
    {
      "cell_type": "code",
      "source": [
        "scores = [ 10, 5, 12, 4, 23, 6, 2, 25]\n",
        "break_Records(scores)"
      ],
      "metadata": {
        "id": "QQAj_65ecHb9",
        "outputId": "7d2abc1d-a878-41c2-bf6c-5a451041f5ac",
        "colab": {
          "base_uri": "https://localhost:8080/"
        }
      },
      "execution_count": null,
      "outputs": [
        {
          "output_type": "execute_result",
          "data": {
            "text/plain": [
              "[3, 3]"
            ]
          },
          "metadata": {},
          "execution_count": 11
        }
      ]
    },
    {
      "cell_type": "markdown",
      "source": [
        "###BONUS String Manipulation\n",
        "Given a string, , of length that is indexed from to , print its even-indexed and odd-indexed characters as space-separated strings on a single line (see the Sample below for more detail). "
      ],
      "metadata": {
        "id": "9Ayl1hFl-s-2"
      }
    },
    {
      "cell_type": "code",
      "source": [
        "def string_Manipulation():\n",
        "  T = int(input())\n",
        "  for i in range (T):\n",
        "    S= input()\n",
        "    print ( S[0::2] + \" \" + S[1::2])"
      ],
      "metadata": {
        "id": "fOz9s9xL-0bm"
      },
      "execution_count": null,
      "outputs": []
    },
    {
      "cell_type": "code",
      "source": [
        "string_Manipulation()"
      ],
      "metadata": {
        "colab": {
          "base_uri": "https://localhost:8080/"
        },
        "id": "V_-QluWm_bGS",
        "outputId": "96aaec3d-d617-49dd-c8fc-4c1c95f72d74"
      },
      "execution_count": null,
      "outputs": [
        {
          "output_type": "stream",
          "name": "stdout",
          "text": [
            "2\n",
            "Datascience\n",
            "Dtsine aacec\n",
            "Machinelearning\n",
            "Mcieerig ahnlann\n"
          ]
        }
      ]
    },
    {
      "cell_type": "markdown",
      "source": [
        "### BONUS OOP PYTHON"
      ],
      "metadata": {
        "id": "EBPGaYe0-mWs"
      }
    },
    {
      "cell_type": "code",
      "source": [
        "class Person:\n",
        "    def __init__(self,initialAge):\n",
        "        # Add some more code to run some checks on initialAge\n",
        "        if (initialAge > 0 ):\n",
        "            self.Age = initialAge\n",
        "\n",
        "        elif(initialAge < 0):\n",
        "            self.Age = 0\n",
        "            print(\"Age is not valid, setting age to 0.\")\n",
        "            \n",
        "    def amIOld(self):\n",
        "        # Do some computations in here and print out the correct statement to the console\n",
        "        if (self.Age < 13):\n",
        "            print(\"You are young.\")\n",
        "        elif self.Age>=13 and self.Age< 18:\n",
        "            print(\"You are a teenager.\")\n",
        "        elif(self.Age >= 18):\n",
        "            print(\"You are old.\")\n",
        "    def yearPasses(self):\n",
        "        # Increment the age of the person in here\n",
        "        self.Age += 1\n",
        "        return self.Age\n",
        "\n",
        "t = int(input())"
      ],
      "metadata": {
        "id": "RtZ7lTLycU8_",
        "colab": {
          "base_uri": "https://localhost:8080/"
        },
        "outputId": "082dc24d-1fdd-41fd-8bf3-2a13d3dc0979"
      },
      "execution_count": null,
      "outputs": [
        {
          "name": "stdout",
          "output_type": "stream",
          "text": [
            "18\n"
          ]
        }
      ]
    },
    {
      "cell_type": "code",
      "source": [
        "steve = Person(t)\n",
        "steve.amIOld()\n",
        "steve.yearPasses()"
      ],
      "metadata": {
        "colab": {
          "base_uri": "https://localhost:8080/"
        },
        "id": "-MIkLzWm-kvK",
        "outputId": "5c4f9c85-031b-44dc-aed3-828fb06b2376"
      },
      "execution_count": null,
      "outputs": [
        {
          "output_type": "stream",
          "name": "stdout",
          "text": [
            "You are old.\n"
          ]
        },
        {
          "output_type": "execute_result",
          "data": {
            "text/plain": [
              "19"
            ]
          },
          "metadata": {},
          "execution_count": 65
        }
      ]
    },
    {
      "cell_type": "markdown",
      "source": [
        "### Abstract Methods"
      ],
      "metadata": {
        "id": "9fOuUkNW65EG"
      }
    },
    {
      "cell_type": "markdown",
      "source": [
        "abstract method is a method which only has declaration and doesn't have definition.\n",
        "a class is called abstract class only if it has at least one abstract method.\n",
        "when you inherit a abstract class as a parent to the child class, the child class should define all the abstract method present in parent class.\n",
        "if it is not done then child class also becomes abstract class automatically.\n",
        "at last, python by default doesn't support abstract class and abstract method, so there is a package called ABC(abstract base classes) by which we can make a class or method abstract."
      ],
      "metadata": {
        "id": "8fg4xPxX-aD_"
      }
    },
    {
      "cell_type": "code",
      "source": [
        "from abc import ABCMeta, abstractmethod\n",
        "\n",
        "class Book(object, metaclass = ABCMeta):\n",
        "  def __init__(self, title, author):\n",
        "    self.title = title\n",
        "    self.author = author \n",
        "  @abstractmethod\n",
        "  def display(self):\n",
        "    pass\n",
        "\n",
        "class MyBook(Book):\n",
        "  def __init__(self, title, author, price):\n",
        "    super().__init__(title, author)\n",
        "    self.price = price\n",
        "\n",
        "  def display(self):\n",
        "    print (f'Title: {self.title}')\n",
        "    print (f'Author: {self.author}')\n",
        "    print (f'Price: {self.price}')\n",
        "\n",
        "\n",
        "title=input()\n",
        "author=input()\n",
        "price=int(input())\n",
        "new_novel=MyBook(title,author,price)\n",
        "new_novel.display()\n"
      ],
      "metadata": {
        "id": "lDRN23eV69QF",
        "colab": {
          "base_uri": "https://localhost:8080/"
        },
        "outputId": "6ffc8d98-e858-4bf9-c8d9-ee09b87bbef4"
      },
      "execution_count": null,
      "outputs": [
        {
          "output_type": "stream",
          "name": "stdout",
          "text": [
            "Mr DSal\n",
            "Nephets Austin\n",
            "500\n",
            "Title: Mr DSal\n",
            "Author: Nephets Austin\n",
            "Price: 500\n"
          ]
        }
      ]
    },
    {
      "cell_type": "markdown",
      "source": [
        "### Scope\n",
        "LEGB - Local, Enclosing, Global, Builtin"
      ],
      "metadata": {
        "id": "-i-9EZoo-bua"
      }
    },
    {
      "cell_type": "markdown",
      "source": [
        "### Linked Lists"
      ],
      "metadata": {
        "id": "bXM8rPYlaU48"
      }
    },
    {
      "cell_type": "code",
      "source": [
        "class Node:\n",
        "  def __init__(self, data):\n",
        "    self.data = data\n",
        "    self.nextval = None\n",
        "\n",
        "class SlinkedList:\n",
        "  def __init__(self):\n",
        "    self.headval = None\n",
        "\n",
        "  def display(self):\n",
        "    val = self.headval\n",
        "    while val is not None:\n",
        "      print(val.data)\n",
        "      val = val.nextval\n",
        "\n",
        "  def insertBeginning(self, newdata):\n",
        "    newnode = Node(newdata)\n",
        "    newnode.nextval = self.headval\n",
        "    self.headval = newnode\n",
        "\n",
        "  def insertEnd(self, newdata):\n",
        "    newnode = Node(newdata)\n",
        "    if self.headval is None:\n",
        "      self.headval = newnode\n",
        "      return\n",
        "    last = self.headval\n",
        "    while last.nextval:\n",
        "      last = last.nextval\n",
        "    last.nextval = newnode\n",
        "\n",
        "  def insertMiddle(self, middlenode, newdata):\n",
        "    if middlenode is None:\n",
        "      print(\"Middlenode absent\")\n",
        "      return\n",
        "    newnode = Node(newdata)\n",
        "    newnode.nextval = middlenode.nextval\n",
        "    middlenode.nextval = newnode\n",
        "\n",
        "  def insertList(self, data_list):\n",
        "    self.headval = None\n",
        "    for i in data_list:\n",
        "      self.insertEnd(i)\n",
        "\n",
        "\n",
        "  def get_len(self):\n",
        "    val = self.headval\n",
        "    count = 0\n",
        "    while val:\n",
        "      count+=1\n",
        "      val = val.nextval\n",
        "\n",
        "    return count\n",
        "\n",
        "  def remove_at(self, idx):\n",
        "    if idx < 0 or idx >=self.get_len():\n",
        "      raise Exception(\"Invalid index\")\n",
        "    elif idx == 0 :\n",
        "      self.headval = self.headval.nextval \n",
        "    else:\n",
        "      count = 0 \n",
        "      val = self.headval\n",
        "      while val:\n",
        "        if count == idx - 1:\n",
        "          val.nextval = val.nextval.nextval\n",
        "          break\n",
        "        val = val.nextval\n",
        "        count+=1\n",
        "\n",
        "\n",
        "\n",
        "\n",
        "    \n",
        "\n",
        "\n",
        "\n",
        "x = Node('Monday')\n",
        "y = Node('Tuesday')\n",
        "z = Node('Wednesday')\n",
        "\n",
        "list1 = SlinkedList()\n",
        "list1.headval = x\n",
        "x.nextval = y\n",
        "y.nextval = z\n",
        "\n",
        "list1.insertBeginning(\"Thursday\")\n",
        "list1.insertEnd(\"Friday\")\n",
        "list1.insertMiddle(list1.headval.nextval, \"HakunaMatata\")\n",
        "\n",
        "\n",
        "\n",
        "list1.display()\n",
        "list1.remove_at(3)\n",
        "\n",
        "print('<---------------------------------After removing ---------------------------------------------------->')\n",
        "list1.display()\n",
        "list1.get_len()\n",
        "\n",
        "print('<---------------------------------After inserting a list ---------------------------------------------------->')\n",
        "list2 = SlinkedList()\n",
        "list2.insertList([1,2,4,5,6])\n",
        "list2.display()"
      ],
      "metadata": {
        "id": "O5Omixwdgco_",
        "colab": {
          "base_uri": "https://localhost:8080/"
        },
        "outputId": "ca9eed9b-0717-4f3c-fb5d-43838abd7b96"
      },
      "execution_count": null,
      "outputs": [
        {
          "output_type": "stream",
          "name": "stdout",
          "text": [
            "Thursday\n",
            "Monday\n",
            "HakunaMatata\n",
            "Tuesday\n",
            "Wednesday\n",
            "Friday\n",
            "<---------------------------------After removing ---------------------------------------------------->\n",
            "Thursday\n",
            "Monday\n",
            "HakunaMatata\n",
            "Wednesday\n",
            "Friday\n",
            "<---------------------------------After inserting a list ---------------------------------------------------->\n",
            "1\n",
            "2\n",
            "4\n",
            "5\n",
            "6\n"
          ]
        }
      ]
    },
    {
      "cell_type": "markdown",
      "source": [
        "### Bonus Reverse List"
      ],
      "metadata": {
        "id": "GpfXeUA5IgQH"
      }
    },
    {
      "cell_type": "code",
      "source": [
        "def reverse_List():\n",
        "  arr = list(map(int, input().rstrip().split()))\n",
        "  for i in reversed(arr):\n",
        "    print(i, end=' ')"
      ],
      "metadata": {
        "id": "azFWm_iCABS0"
      },
      "execution_count": null,
      "outputs": []
    },
    {
      "cell_type": "code",
      "source": [
        "reverse_List()"
      ],
      "metadata": {
        "colab": {
          "base_uri": "https://localhost:8080/"
        },
        "id": "Rg1HDgKmE6jz",
        "outputId": "f0aa8184-a7eb-4c12-b72a-f91b550ec8da"
      },
      "execution_count": null,
      "outputs": [
        {
          "output_type": "stream",
          "name": "stdout",
          "text": [
            "3 4 5 6 7 8 9 10 11\n",
            "11 10 9 8 7 6 5 4 3 "
          ]
        }
      ]
    },
    {
      "cell_type": "markdown",
      "source": [
        "### Bonus Dictionary Update and lookup"
      ],
      "metadata": {
        "id": "_A7H1WwUuRmW"
      }
    },
    {
      "cell_type": "code",
      "source": [
        "\n",
        "\n",
        "for i in range(n):\n",
        "    info = list(map(str, input().rstrip().split()))\n",
        "    dictt[info[0]] = info[1]\n",
        "\n",
        "while True:\n",
        "  try:\n",
        "    query = input()\n",
        "    if query in dictt:\n",
        "      print(query + \"=\" + dictt[query])\n",
        "    else:\n",
        "      print(\"Not found\")\n",
        "    \n",
        "  except EOFError:\n",
        "    break\n",
        "    \n",
        "\n",
        "    "
      ],
      "metadata": {
        "colab": {
          "base_uri": "https://localhost:8080/",
          "height": 643
        },
        "id": "gvZNaCOQFF-Q",
        "outputId": "5906eedd-c9f0-411f-b83d-713b0484330f"
      },
      "execution_count": null,
      "outputs": [
        {
          "output_type": "stream",
          "name": "stdout",
          "text": [
            "steve 074039304\n",
            "kev 076858484\n",
            "zero 0567389238\n",
            "zero\n",
            "zero=0567389238\n",
            "steve\n",
            "steve=074039304\n",
            "kez\n",
            "kez=0869588458\n",
            "ju\n",
            "Not found\n",
            "tryr\n",
            "Not found\n",
            "\n",
            "Not found\n"
          ]
        },
        {
          "output_type": "error",
          "ename": "KeyboardInterrupt",
          "evalue": "ignored",
          "traceback": [
            "\u001b[0;31m---------------------------------------------------------------------------\u001b[0m",
            "\u001b[0;31mKeyboardInterrupt\u001b[0m                         Traceback (most recent call last)",
            "\u001b[0;32m<ipython-input-100-d98362cf4e7c>\u001b[0m in \u001b[0;36m<module>\u001b[0;34m\u001b[0m\n\u001b[1;32m      5\u001b[0m \u001b[0;32mwhile\u001b[0m \u001b[0;32mTrue\u001b[0m\u001b[0;34m:\u001b[0m\u001b[0;34m\u001b[0m\u001b[0;34m\u001b[0m\u001b[0m\n\u001b[1;32m      6\u001b[0m   \u001b[0;32mtry\u001b[0m\u001b[0;34m:\u001b[0m\u001b[0;34m\u001b[0m\u001b[0;34m\u001b[0m\u001b[0m\n\u001b[0;32m----> 7\u001b[0;31m     \u001b[0mquery\u001b[0m \u001b[0;34m=\u001b[0m \u001b[0minput\u001b[0m\u001b[0;34m(\u001b[0m\u001b[0;34m)\u001b[0m\u001b[0;34m\u001b[0m\u001b[0;34m\u001b[0m\u001b[0m\n\u001b[0m\u001b[1;32m      8\u001b[0m     \u001b[0;32mif\u001b[0m \u001b[0mquery\u001b[0m \u001b[0;32min\u001b[0m \u001b[0mdictt\u001b[0m\u001b[0;34m:\u001b[0m\u001b[0;34m\u001b[0m\u001b[0;34m\u001b[0m\u001b[0m\n\u001b[1;32m      9\u001b[0m       \u001b[0mprint\u001b[0m\u001b[0;34m(\u001b[0m\u001b[0mquery\u001b[0m \u001b[0;34m+\u001b[0m \u001b[0;34m\"=\"\u001b[0m \u001b[0;34m+\u001b[0m \u001b[0mdictt\u001b[0m\u001b[0;34m[\u001b[0m\u001b[0mquery\u001b[0m\u001b[0;34m]\u001b[0m\u001b[0;34m)\u001b[0m\u001b[0;34m\u001b[0m\u001b[0;34m\u001b[0m\u001b[0m\n",
            "\u001b[0;32m/usr/local/lib/python3.7/dist-packages/ipykernel/kernelbase.py\u001b[0m in \u001b[0;36mraw_input\u001b[0;34m(self, prompt)\u001b[0m\n\u001b[1;32m    861\u001b[0m             \u001b[0mself\u001b[0m\u001b[0;34m.\u001b[0m\u001b[0m_parent_ident\u001b[0m\u001b[0;34m,\u001b[0m\u001b[0;34m\u001b[0m\u001b[0;34m\u001b[0m\u001b[0m\n\u001b[1;32m    862\u001b[0m             \u001b[0mself\u001b[0m\u001b[0;34m.\u001b[0m\u001b[0m_parent_header\u001b[0m\u001b[0;34m,\u001b[0m\u001b[0;34m\u001b[0m\u001b[0;34m\u001b[0m\u001b[0m\n\u001b[0;32m--> 863\u001b[0;31m             \u001b[0mpassword\u001b[0m\u001b[0;34m=\u001b[0m\u001b[0;32mFalse\u001b[0m\u001b[0;34m,\u001b[0m\u001b[0;34m\u001b[0m\u001b[0;34m\u001b[0m\u001b[0m\n\u001b[0m\u001b[1;32m    864\u001b[0m         )\n\u001b[1;32m    865\u001b[0m \u001b[0;34m\u001b[0m\u001b[0m\n",
            "\u001b[0;32m/usr/local/lib/python3.7/dist-packages/ipykernel/kernelbase.py\u001b[0m in \u001b[0;36m_input_request\u001b[0;34m(self, prompt, ident, parent, password)\u001b[0m\n\u001b[1;32m    902\u001b[0m             \u001b[0;32mexcept\u001b[0m \u001b[0mKeyboardInterrupt\u001b[0m\u001b[0;34m:\u001b[0m\u001b[0;34m\u001b[0m\u001b[0;34m\u001b[0m\u001b[0m\n\u001b[1;32m    903\u001b[0m                 \u001b[0;31m# re-raise KeyboardInterrupt, to truncate traceback\u001b[0m\u001b[0;34m\u001b[0m\u001b[0;34m\u001b[0m\u001b[0;34m\u001b[0m\u001b[0m\n\u001b[0;32m--> 904\u001b[0;31m                 \u001b[0;32mraise\u001b[0m \u001b[0mKeyboardInterrupt\u001b[0m\u001b[0;34m(\u001b[0m\u001b[0;34m\"Interrupted by user\"\u001b[0m\u001b[0;34m)\u001b[0m \u001b[0;32mfrom\u001b[0m \u001b[0;32mNone\u001b[0m\u001b[0;34m\u001b[0m\u001b[0;34m\u001b[0m\u001b[0m\n\u001b[0m\u001b[1;32m    905\u001b[0m             \u001b[0;32mexcept\u001b[0m \u001b[0mException\u001b[0m \u001b[0;32mas\u001b[0m \u001b[0me\u001b[0m\u001b[0;34m:\u001b[0m\u001b[0;34m\u001b[0m\u001b[0;34m\u001b[0m\u001b[0m\n\u001b[1;32m    906\u001b[0m                 \u001b[0mself\u001b[0m\u001b[0;34m.\u001b[0m\u001b[0mlog\u001b[0m\u001b[0;34m.\u001b[0m\u001b[0mwarning\u001b[0m\u001b[0;34m(\u001b[0m\u001b[0;34m\"Invalid Message:\"\u001b[0m\u001b[0;34m,\u001b[0m \u001b[0mexc_info\u001b[0m\u001b[0;34m=\u001b[0m\u001b[0;32mTrue\u001b[0m\u001b[0;34m)\u001b[0m\u001b[0;34m\u001b[0m\u001b[0;34m\u001b[0m\u001b[0m\n",
            "\u001b[0;31mKeyboardInterrupt\u001b[0m: Interrupted by user"
          ]
        }
      ]
    },
    {
      "cell_type": "markdown",
      "source": [
        "## Bonus: Recursive Function"
      ],
      "metadata": {
        "id": "216xhUYSxtuj"
      }
    },
    {
      "cell_type": "code",
      "source": [
        "n = int(input().strip())\n",
        "def factorial(n):\n",
        "  if n ==1:\n",
        "    return 1\n",
        "  else:\n",
        "    return n * factorial(n-1)\n",
        "\n",
        "\n",
        "factorial(n)\n"
      ],
      "metadata": {
        "colab": {
          "base_uri": "https://localhost:8080/"
        },
        "id": "wBuamXxYp-wy",
        "outputId": "d7027663-3df2-4f30-c066-ce91d652d4a9"
      },
      "execution_count": null,
      "outputs": [
        {
          "name": "stdout",
          "output_type": "stream",
          "text": [
            "5\n"
          ]
        },
        {
          "output_type": "execute_result",
          "data": {
            "text/plain": [
              "120"
            ]
          },
          "metadata": {},
          "execution_count": 109
        }
      ]
    },
    {
      "cell_type": "markdown",
      "source": [
        "### Bonus \n",
        "Given a base- integer, , convert it to binary (base-). Then find and print the base- integer denoting the maximum number of consecutive 's in 's binary representation. When working with different bases, it is common to show the base as a subscript. "
      ],
      "metadata": {
        "id": "JGIfBWd1HDtE"
      }
    },
    {
      "cell_type": "code",
      "source": [
        "n = int(input().strip())\n",
        "bin = []\n",
        "def dec2Bin(n):\n",
        "  if n >=2:\n",
        "    dec2Bin(n//2)\n",
        "  rem = n%2\n",
        "  bin.append(rem)\n",
        "\n",
        "\n",
        "\n",
        "dec2Bin(n)\n",
        "print(bin)"
      ],
      "metadata": {
        "id": "Y5azU5WDxMSW",
        "outputId": "85387fb1-a4e6-444e-a0fb-e4cb97883d85",
        "colab": {
          "base_uri": "https://localhost:8080/"
        }
      },
      "execution_count": null,
      "outputs": [
        {
          "output_type": "stream",
          "name": "stdout",
          "text": [
            "13\n",
            "[1, 1, 0, 1]\n"
          ]
        }
      ]
    },
    {
      "cell_type": "code",
      "source": [
        "count = 0\n",
        "maximum = 0\n",
        "for i in range(len(bin)):\n",
        "  if bin[i] == 0:\n",
        "    count = 0\n",
        "  elif bin[i] == 1:\n",
        "    count += 1\n",
        "    if count > maximum:\n",
        "      maximum = count\n",
        "\n",
        "print(maximum)"
      ],
      "metadata": {
        "id": "-fZHuxpdxQX_",
        "outputId": "e21a4e1d-b94f-48e1-ed7f-408814e30918",
        "colab": {
          "base_uri": "https://localhost:8080/"
        }
      },
      "execution_count": null,
      "outputs": [
        {
          "output_type": "stream",
          "name": "stdout",
          "text": [
            "2\n"
          ]
        }
      ]
    },
    {
      "cell_type": "markdown",
      "source": [
        "### Bonus: Working with 2d arrays"
      ],
      "metadata": {
        "id": "WtHmdyHmfmiC"
      }
    },
    {
      "cell_type": "code",
      "source": [
        "arr = []\n",
        "for i in range(4):\n",
        "  arr.append(list(map(int, input().rstrip().split())))"
      ],
      "metadata": {
        "id": "cPJ6qLh7JX7O",
        "colab": {
          "base_uri": "https://localhost:8080/"
        },
        "outputId": "3d137023-c148-47e2-8ab9-65d8bb76480b"
      },
      "execution_count": null,
      "outputs": [
        {
          "name": "stdout",
          "output_type": "stream",
          "text": [
            "1 0 0 0 \n",
            "0 1 0 0\n",
            "0 0 1 0\n",
            "0 0 0 1\n"
          ]
        }
      ]
    },
    {
      "cell_type": "code",
      "source": [
        "len(arr)"
      ],
      "metadata": {
        "id": "r_QtxUWriVNs",
        "outputId": "c948612a-2edc-4976-8288-b7f9dc9537ca",
        "colab": {
          "base_uri": "https://localhost:8080/"
        }
      },
      "execution_count": null,
      "outputs": [
        {
          "output_type": "execute_result",
          "data": {
            "text/plain": [
              "4"
            ]
          },
          "metadata": {},
          "execution_count": 48
        }
      ]
    },
    {
      "cell_type": "code",
      "source": [
        "def chessRookRules(arr):\n",
        "  row_count=0\n",
        "  col_count=0\n",
        "  for i in range (len(arr)):\n",
        "    for j in range(len(arr)):\n",
        "      row_count += arr[i][j]\n",
        "      col_count += arr[j][i]\n",
        "    if row_count >=2 or col_count>=2:\n",
        "      return (\"Attack can happen\")\n",
        "    else:\n",
        "      return (\"Attack can not happen\")\n",
        "    row_count=col_count = 0\n",
        "  \n",
        "      \n",
        "\n",
        "\n",
        "  \n",
        "\n",
        "  \n"
      ],
      "metadata": {
        "id": "OK7GKNiAf5UK"
      },
      "execution_count": null,
      "outputs": []
    },
    {
      "cell_type": "code",
      "source": [
        "chessRookRules(arr)"
      ],
      "metadata": {
        "id": "lrkgK_1XgJa1",
        "outputId": "9b4a7306-3781-45f2-e796-3728218fdf23",
        "colab": {
          "base_uri": "https://localhost:8080/",
          "height": 35
        }
      },
      "execution_count": null,
      "outputs": [
        {
          "output_type": "execute_result",
          "data": {
            "text/plain": [
              "'Attack can not happen'"
            ],
            "application/vnd.google.colaboratory.intrinsic+json": {
              "type": "string"
            }
          },
          "metadata": {},
          "execution_count": 52
        }
      ]
    },
    {
      "cell_type": "code",
      "source": [
        "arr2=[]\n",
        "for i in range(4):\n",
        "  arr2.append(list(map(int, input().rstrip().split())))"
      ],
      "metadata": {
        "id": "I9gdCYjkmfqY",
        "outputId": "61f4e3ed-93ad-4a29-904a-a8b9da5ae5f4",
        "colab": {
          "base_uri": "https://localhost:8080/"
        }
      },
      "execution_count": null,
      "outputs": [
        {
          "name": "stdout",
          "output_type": "stream",
          "text": [
            "1 1 0 0\n",
            "0 0 0 0\n",
            "0 0 0 0\n",
            "0 0 0 0\n"
          ]
        }
      ]
    },
    {
      "cell_type": "code",
      "source": [
        "chessRookRules(arr2)"
      ],
      "metadata": {
        "id": "0FddddV9tQvf",
        "outputId": "ecd12aac-63a5-4230-b5b7-f1ab1006be3a",
        "colab": {
          "base_uri": "https://localhost:8080/",
          "height": 35
        }
      },
      "execution_count": null,
      "outputs": [
        {
          "output_type": "execute_result",
          "data": {
            "text/plain": [
              "'Attack can happen'"
            ],
            "application/vnd.google.colaboratory.intrinsic+json": {
              "type": "string"
            }
          },
          "metadata": {},
          "execution_count": 54
        }
      ]
    },
    {
      "cell_type": "markdown",
      "source": [
        "### More 2Darrays\n",
        "Calculate the hourglass sum for every hourglass in , then print the maximum hourglass sum."
      ],
      "metadata": {
        "id": "IYwV-LaPtyFs"
      }
    },
    {
      "cell_type": "code",
      "source": [
        "arr = []\n",
        "for i in range(6):\n",
        "  arr.append(list(map(int, input().rstrip().split())))"
      ],
      "metadata": {
        "id": "WwX-28D8tZgw",
        "outputId": "1830d1eb-0a50-4f41-fbb1-8b0d5b5d41a5",
        "colab": {
          "base_uri": "https://localhost:8080/"
        }
      },
      "execution_count": null,
      "outputs": [
        {
          "name": "stdout",
          "output_type": "stream",
          "text": [
            "1 1 1 0 0 0\n",
            "0 1 0 0 0 0\n",
            "1 1 1 0 0 0\n",
            "0 0 2 4 4 0\n",
            "0 0 0 2 0 0\n",
            "0 0 1 2 4 0\n"
          ]
        }
      ]
    },
    {
      "cell_type": "code",
      "source": [
        "## You cannot have a hourglass in the first and last row or column \n",
        "maximum_sum = -63 ## due to the constraints\n",
        "\n",
        "def getHgSum(arr, i, j):\n",
        "  ssum = 0\n",
        "  ssum += arr[i-1][j-1]\n",
        "  ssum += arr[i-1][j]\n",
        "  ssum += arr[i-1][j+1]\n",
        "  ssum += arr[i][j]\n",
        "  ssum += arr[i+1][j-1]\n",
        "  ssum += arr[i+1][j]\n",
        "  ssum += arr[i+1][j+1]\n",
        "  return ssum\n",
        "\n",
        "\n",
        "\n",
        "\n",
        "for i in range(1,5):\n",
        "  for j in range(1,5):\n",
        "    current_sum = getHgSum(arr, i, j)\n",
        "    if current_sum > maximum_sum:\n",
        "      maximum_sum = current_sum\n",
        "print(maximum_sum)"
      ],
      "metadata": {
        "id": "RnlFXEeYuEjh",
        "outputId": "e1d3788b-b9d5-4e58-e336-1bf2fc8e529d",
        "colab": {
          "base_uri": "https://localhost:8080/"
        }
      },
      "execution_count": null,
      "outputs": [
        {
          "output_type": "stream",
          "name": "stdout",
          "text": [
            "19\n"
          ]
        }
      ]
    },
    {
      "cell_type": "markdown",
      "source": [
        "### STACKS and QUEUES\n",
        "* Stacks - Last in First out Data Structure\n",
        "* Queue - First in First out Data Structure\n"
      ],
      "metadata": {
        "id": "gerz4t9OnEVF"
      }
    },
    {
      "cell_type": "code",
      "source": [
        "from collections import deque"
      ],
      "metadata": {
        "id": "0VDySR6kpi_R"
      },
      "execution_count": null,
      "outputs": []
    },
    {
      "cell_type": "code",
      "source": [
        "class Solution:\n",
        "  def __init__(self):\n",
        "    self.stack = deque()\n",
        "    self.queue = deque()\n",
        "\n",
        "  def pushCharacter(self, x):\n",
        "    return self.stack.append(x)\n",
        "    \n",
        "  \n",
        "  def enqueCharacter(self, x):\n",
        "    return self.queue.appendleft(x)\n",
        "\n",
        "  def popCharacter(self):\n",
        "    return self.stack.pop()\n",
        "\n",
        "  def dequeCharacter(self):\n",
        "    return self.queue.pop()\n",
        "\n",
        "  def isEmpty(self):\n",
        "    if len(self.stack) == 0 or len(self.queue) == 0:\n",
        "      return True\n",
        "\n",
        "  "
      ],
      "metadata": {
        "id": "j0nztsGZyec5"
      },
      "execution_count": null,
      "outputs": []
    },
    {
      "cell_type": "code",
      "source": [
        "obj = Solution()\n",
        "obj.isEmpty()\n",
        "\n",
        "def palindrome(obj):\n",
        "  S = input()\n",
        "  \n",
        "  for i in range (len(S)):\n",
        "    obj.pushCharacter(S[i])\n",
        "    obj.enqueCharacter(S[i])\n",
        "\n",
        "  isPalindrome = True\n",
        "\n",
        "  for i in range(len(S) // 2):\n",
        "      if obj.popCharacter()!=obj.dequeCharacter():\n",
        "          isPalindrome=False\n",
        "          break\n",
        "  #finally print whether string s is palindrome or not.\n",
        "  if isPalindrome:\n",
        "      print(\"The word, \"+S+\", is a palindrome.\")\n",
        "  else:\n",
        "      print(\"The word, \"+S+\", is not a palindrome.\")\n",
        "\n",
        "\n",
        "  \n"
      ],
      "metadata": {
        "id": "Iqbn5qPD-xiy"
      },
      "execution_count": null,
      "outputs": []
    },
    {
      "cell_type": "code",
      "source": [
        "palindrome(obj)"
      ],
      "metadata": {
        "colab": {
          "base_uri": "https://localhost:8080/"
        },
        "id": "7-4Z4jyBBArr",
        "outputId": "4e88f00a-91af-4910-cab9-aef21fd4bd61"
      },
      "execution_count": null,
      "outputs": [
        {
          "output_type": "stream",
          "name": "stdout",
          "text": [
            "stephen\n",
            "The word, stephen, is not a palindrome.\n"
          ]
        }
      ]
    },
    {
      "cell_type": "code",
      "source": [
        "obj2 = Solution()\n",
        "palindrome(obj2)"
      ],
      "metadata": {
        "colab": {
          "base_uri": "https://localhost:8080/"
        },
        "id": "P5AfPaCZ-yW2",
        "outputId": "2a2322fe-1d29-4734-fea0-57a584503850"
      },
      "execution_count": null,
      "outputs": [
        {
          "output_type": "stream",
          "name": "stdout",
          "text": [
            "racecar\n",
            "The word, racecar, is a palindrome.\n"
          ]
        }
      ]
    },
    {
      "cell_type": "code",
      "source": [
        "a=int(input(\"Enter a number: \"))\n",
        "count=0\n",
        "for i in range(1, a+1):\n",
        "  if a%i==0:\n",
        "    count+=1\n",
        "    print(i, end=\",\")\n",
        "print(\"\\n\")\n",
        "print(\"Total\",count,\"divisors\")"
      ],
      "metadata": {
        "colab": {
          "base_uri": "https://localhost:8080/"
        },
        "id": "mwzIbFutBf0I",
        "outputId": "f64ad059-5af7-4db4-afd8-ecb3e6d9ee68"
      },
      "execution_count": null,
      "outputs": [
        {
          "output_type": "stream",
          "name": "stdout",
          "text": [
            "Enter a number: 35\n",
            "1,5,7,35,\n",
            "\n",
            "Total 4 divisors\n"
          ]
        }
      ]
    },
    {
      "cell_type": "code",
      "source": [
        "def divisorsSum():\n",
        "  x = int(input())\n",
        "  total = 0 \n",
        "  count = 0\n",
        "\n",
        "  for i in range(1, x+1):\n",
        "    if (x%i == 0):\n",
        "      print(i , end=',')\n",
        "      total += i \n",
        "      count +=1\n",
        "  print(f'there are a total of {count} divisors')\n",
        "  \n",
        "\n",
        "  return total\n"
      ],
      "metadata": {
        "id": "PiVtlIjaEYmU"
      },
      "execution_count": null,
      "outputs": []
    },
    {
      "cell_type": "code",
      "source": [
        "divisorsSum()"
      ],
      "metadata": {
        "colab": {
          "base_uri": "https://localhost:8080/"
        },
        "id": "KxDma3scE-h-",
        "outputId": "97531229-18b0-4a4c-efa1-8872ae7ce25f"
      },
      "execution_count": null,
      "outputs": [
        {
          "output_type": "stream",
          "name": "stdout",
          "text": [
            "25\n",
            "1,5,25,there are a total of 3 divisors\n"
          ]
        },
        {
          "output_type": "execute_result",
          "data": {
            "text/plain": [
              "31"
            ]
          },
          "metadata": {},
          "execution_count": 46
        }
      ]
    },
    {
      "cell_type": "markdown",
      "source": [
        "## INTRODUCTION TO INTERFACES"
      ],
      "metadata": {
        "id": "vFEUZ-7BGXOt"
      }
    },
    {
      "cell_type": "code",
      "source": [
        "class AdvancedArithmetic(object):\n",
        "  def divisorSum(n):\n",
        "      raise NotImplementedError\n",
        "\n",
        "class Calculator(AdvancedArithmetic):\n",
        "  def divisorSum(self, n):\n",
        "    total = 0\n",
        "    count = 0\n",
        "    for i in range (1, n+1):\n",
        "      if (n%i ==0 ):\n",
        "        print(i, end=' ,')\n",
        "        total += i\n",
        "        count += 1\n",
        "\n",
        "    \n",
        "    print('there are ' + str(count) + ' divisors ')\n",
        "    return total \n",
        "\n",
        "\n",
        "n = int(input())\n",
        "my_calculator = Calculator()\n",
        "s = my_calculator.divisorSum(n)\n",
        "print(\"I implemented: \" + type(my_calculator).__bases__[0].__name__)\n",
        "print(s)\n"
      ],
      "metadata": {
        "colab": {
          "base_uri": "https://localhost:8080/"
        },
        "id": "sKYNIoAvFBmL",
        "outputId": "8f8741d1-19a9-4376-f227-52aa2775194e"
      },
      "execution_count": null,
      "outputs": [
        {
          "output_type": "stream",
          "name": "stdout",
          "text": [
            "64\n",
            "1 ,2 ,4 ,8 ,16 ,32 ,64 ,there are 7 divisors \n",
            "I implemented: AdvancedArithmetic\n",
            "127\n"
          ]
        }
      ]
    },
    {
      "cell_type": "markdown",
      "source": [
        "### Binary Search Trees"
      ],
      "metadata": {
        "id": "gOD5tO-ZBOBm"
      }
    },
    {
      "cell_type": "code",
      "source": [
        "class Node:\n",
        "  def __init__(self, data):\n",
        "    self.data = data\n",
        "    self.left = self.right = None \n",
        "\n",
        "class Solution:\n",
        "  def insert(self, root, node):\n",
        "    if root == None:\n",
        "      root = Node(data)\n",
        "    else:\n",
        "      if(data <= root.data):\n",
        "        curr = self.insert(root.left, data)\n",
        "        root.left = curr\n",
        "      else:\n",
        "        curr = self.insert(root.right, data)\n",
        "        root.right = curr\n",
        "\n",
        "    return root"
      ],
      "metadata": {
        "id": "te8tf3A1HHqr"
      },
      "execution_count": null,
      "outputs": []
    },
    {
      "cell_type": "code",
      "source": [
        "T = int(input())\n",
        "ex = Solution()\n",
        "root = None \n",
        "for i in range (T):\n",
        "  data = int(input())\n",
        "  root = ex.insert(root,data)\n",
        "  \n"
      ],
      "metadata": {
        "id": "QtkvKioCDdL9",
        "outputId": "9ac6d1cb-93dd-42b7-f493-3a938ab8d1bf",
        "colab": {
          "base_uri": "https://localhost:8080/"
        }
      },
      "execution_count": null,
      "outputs": [
        {
          "name": "stdout",
          "output_type": "stream",
          "text": [
            "4\n",
            "4\n",
            "1\n",
            "2\n",
            "5\n"
          ]
        }
      ]
    },
    {
      "cell_type": "code",
      "source": [],
      "metadata": {
        "id": "9ty27KcNEGIn"
      },
      "execution_count": null,
      "outputs": []
    },
    {
      "cell_type": "markdown",
      "source": [
        "### Play ground"
      ],
      "metadata": {
        "id": "pKC6iFZ6KkEs"
      }
    },
    {
      "cell_type": "code",
      "source": [
        "from logging import exception\n",
        "#create a node class\n",
        "class Node:\n",
        "  def __init__ (self, data):\n",
        "    self.data = data\n",
        "    self.next = None\n",
        "\n",
        "\n",
        "# create a singly linked class\n",
        "class Sllist:\n",
        "  #init it\n",
        "  def __init__(self):\n",
        "    self.head = None\n",
        "\n",
        "  #display elements\n",
        "  def display(self):\n",
        "    temp = self.head\n",
        "    while temp is not None:\n",
        "      print(temp.data)\n",
        "      temp = temp.next\n",
        "\n",
        "\n",
        "  #add elements\n",
        "  def add_node(self, data):\n",
        "    new_node = Node(data)\n",
        "    if self.head == None:\n",
        "      self.head = new_node\n",
        "      return\n",
        "    \n",
        "    temp = self.head\n",
        "    while temp.next:\n",
        "      temp = temp.next\n",
        "\n",
        "    temp.next = new_node\n",
        "    return\n",
        "\n",
        "  # add elements in the beginning\n",
        "  def insert_beg(self, data):\n",
        "    new_node = Node(data)\n",
        "    new_node.next = self.head \n",
        "    self.head = new_node\n",
        "    return\n",
        "\n",
        "  # add elements at the middle\n",
        "  def insert_mid(self, prev_node, data):\n",
        "    if prev_node is None:\n",
        "      print('The prev node does not exit')\n",
        "      return\n",
        "    new_node = Node(data)\n",
        "    new_node.next = prev_node.next\n",
        "    prev_node.next = new_node\n",
        "    return\n",
        "\n",
        "\n",
        "\n",
        "\n",
        "# add list elements\n",
        "  def insert_list(self, data):\n",
        "    self.head = None\n",
        "    for i in data:\n",
        "      self.add_node(i)\n",
        "\n",
        "      \n",
        "\n",
        "  # find the len of the list \n",
        "  def get_len(self):\n",
        "    temp = self.head\n",
        "    count = 0\n",
        "    while temp:\n",
        "      temp = temp.next\n",
        "      count += 1\n",
        "\n",
        "    return count \n",
        "# remove at a given index\n",
        "  def remove_at(self, index):\n",
        "    if index < 0 or index > self.get_len():\n",
        "      raise Exception ('Index out of range')\n",
        "\n",
        "    else:\n",
        "      if index == 0:\n",
        "        temp = self.head\n",
        "        self.head = temp.next\n",
        "      else:\n",
        "        count = 0\n",
        "        temp = self.head\n",
        "        while temp.next:\n",
        "          if count == index-1:\n",
        "            temp.next = temp.next.next\n",
        "            break\n",
        "          temp = temp.next\n",
        "          count+=1\n",
        "\n",
        "\n",
        "  def insert_at(self, index, data):\n",
        "    if index < 0 or index >= self.get_len():\n",
        "      raise Exception (\"Invalid index\")\n",
        "    else:\n",
        "      if index == 0:\n",
        "        self.insert_beg(data)\n",
        "      else:\n",
        "        count = 0\n",
        "        temp = self.head\n",
        "        while temp.next:\n",
        "          if (count == index-1):\n",
        "            new_node = Node(data,)\n",
        "            new_node.next = temp.next\n",
        "            temp.next = new_node\n",
        "            break\n",
        "          count +=1\n",
        "          temp = temp.next\n",
        "\n",
        "\n",
        "            \n",
        "\n",
        "\n"
      ],
      "metadata": {
        "id": "gtcBiMmLKlkC"
      },
      "execution_count": null,
      "outputs": []
    },
    {
      "cell_type": "code",
      "source": [
        "x = Node('Monday')\n",
        "y = Node('Tuesday')\n",
        "z = Node('Wednesday')\n",
        "\n",
        "list1 = Sllist()\n",
        "list1.headval = x\n",
        "x.nextval = y\n",
        "y.nextval = z\n",
        "\n",
        "list1.insert_beg(\"Thursday\")\n",
        "list1.add_node(\"Friday\")\n",
        "list1.insert_mid(list1.head.next, \"HakunaMatata\")\n",
        "\n",
        "\n",
        "\n",
        "\n",
        "list1.display()\n",
        "list1.remove_at(2)\n",
        "\n",
        "print('<---------------------------------After removing ---------------------------------------------------->')\n",
        "list1.display()\n",
        "list1.get_len()\n",
        "\n",
        "print('<---------------------------------After inserting a list ---------------------------------------------------->')\n",
        "list2 = Sllist()\n",
        "list2.insert_list([1,2,4,5,6])\n",
        "list2.display()"
      ],
      "metadata": {
        "id": "Bt39uauw-OLF",
        "outputId": "881c1146-266a-4307-d277-ec49a576f6a6",
        "colab": {
          "base_uri": "https://localhost:8080/"
        }
      },
      "execution_count": null,
      "outputs": [
        {
          "output_type": "stream",
          "name": "stdout",
          "text": [
            "Thursday\n",
            "Friday\n",
            "HakunaMatata\n",
            "<---------------------------------After removing ---------------------------------------------------->\n",
            "Thursday\n",
            "Friday\n",
            "<---------------------------------After inserting a list ---------------------------------------------------->\n",
            "1\n",
            "2\n",
            "4\n",
            "5\n",
            "6\n"
          ]
        }
      ]
    },
    {
      "cell_type": "code",
      "source": [
        "list_test = Sllist()\n",
        "list_test.insert_list([10,30,40,50,60])\n",
        "list_test.display()"
      ],
      "metadata": {
        "id": "nmVQ7TMq9yJi",
        "outputId": "dfbf5a63-6a01-43a9-ad2a-f95c31a46b57",
        "colab": {
          "base_uri": "https://localhost:8080/"
        }
      },
      "execution_count": null,
      "outputs": [
        {
          "output_type": "stream",
          "name": "stdout",
          "text": [
            "10\n",
            "30\n",
            "40\n",
            "50\n",
            "60\n"
          ]
        }
      ]
    },
    {
      "cell_type": "code",
      "source": [
        "list_test.insert_at(1,20)\n",
        "list_test.display()"
      ],
      "metadata": {
        "id": "UTgdkFLU-HTk",
        "outputId": "c8dc10f6-83e0-4548-c323-a757446c3058",
        "colab": {
          "base_uri": "https://localhost:8080/"
        }
      },
      "execution_count": null,
      "outputs": [
        {
          "output_type": "stream",
          "name": "stdout",
          "text": [
            "10\n",
            "20\n",
            "30\n",
            "40\n",
            "50\n",
            "60\n"
          ]
        }
      ]
    },
    {
      "cell_type": "code",
      "source": [
        "list_test.display()"
      ],
      "metadata": {
        "id": "lRdgR1aH-Nht"
      },
      "execution_count": null,
      "outputs": []
    },
    {
      "cell_type": "code",
      "source": [
        "class Node:\n",
        "  def __init__(self, data):\n",
        "    self.data = data\n",
        "    self.children = []\n",
        "    self.parent = None\n",
        "\n",
        "  def add_child(self, child):\n",
        "    child.parent = self\n",
        "    self.children.append(child)\n",
        "\n",
        "  def get_len(self):\n",
        "    height = 0\n",
        "    temp = self.parent\n",
        "    while temp:\n",
        "      height += 1\n",
        "      temp = temp.parent\n",
        "\n",
        "    return height\n",
        "\n",
        "  def print_tree(self):\n",
        "    print(f'{\"  \" * self.get_len()} {self.data}')\n",
        "\n",
        "    if self.children:\n",
        "      for child in self.children:\n",
        "        child.print_tree()\n",
        "        \n",
        "\n"
      ],
      "metadata": {
        "id": "PDlvIgFq-PNA"
      },
      "execution_count": null,
      "outputs": []
    },
    {
      "cell_type": "code",
      "source": [
        "def build_tree():\n",
        "  root = Node(\"Kuluo\")\n",
        "\n",
        "  Kolesh = Node(\"Kolesh\")\n",
        "  Parmale = Node(\"Parmale\")\n",
        "  Peter = Node(\"Peter\")\n",
        "  \n",
        "  root.add_child(Kolesh)\n",
        "  root.add_child(Parmale)\n",
        "  root.add_child(Peter)\n",
        "\n",
        "  Kolesh.add_child(Node('Steve'))\n",
        "  Kolesh.add_child(Node('Dan'))\n",
        "  Kolesh.add_child(Node('Kev'))\n",
        "\n",
        "  Parmale.add_child(Node('Ian'))\n",
        "  Parmale.add_child(Node('Edu'))\n",
        "  Parmale.add_child(Node('Sonia'))\n",
        "\n",
        "  Peter.add_child(Node('Senei'))\n",
        "  Peter.add_child(Node('Geoffrey'))\n",
        "  Peter.add_child(Node('Loishorua'))\n",
        "\n",
        "  return root \n"
      ],
      "metadata": {
        "id": "u3c3TnMj2hoW"
      },
      "execution_count": null,
      "outputs": []
    },
    {
      "cell_type": "code",
      "source": [
        "root = build_tree()\n",
        "root.print_tree()"
      ],
      "metadata": {
        "colab": {
          "base_uri": "https://localhost:8080/"
        },
        "id": "h7t7T9hQ3Kax",
        "outputId": "0a729467-2044-42b3-a437-fcc94ccfcd6f"
      },
      "execution_count": null,
      "outputs": [
        {
          "output_type": "stream",
          "name": "stdout",
          "text": [
            " Kuluo\n",
            "   Kolesh\n",
            "     Steve\n",
            "     Dan\n",
            "     Kev\n",
            "   Parmale\n",
            "     Ian\n",
            "     Edu\n",
            "     Sonia\n",
            "   Peter\n",
            "     Senei\n",
            "     Geoffrey\n",
            "     Loishorua\n"
          ]
        }
      ]
    },
    {
      "cell_type": "markdown",
      "source": [
        "### Doubly Linked List?"
      ],
      "metadata": {
        "id": "zrF3nKVk54XW"
      }
    },
    {
      "cell_type": "code",
      "source": [
        "class Node:\n",
        "  def __init__(self, data):\n",
        "    self.data = data\n",
        "    self.next = None\n",
        "    self.prev = None\n",
        "\n",
        "class Dllist:\n",
        "  def __init__(self):\n",
        "    self.head = None \n",
        "\n",
        "  def append(self, data):\n",
        "    new_node = Node(data)\n",
        "    if self.head == None:\n",
        "      self.head = new_node\n",
        "    else:\n",
        "      temp = self.head\n",
        "      while temp.next:\n",
        "        temp = temp.next\n",
        "      new_node.prev = temp.next\n",
        "      temp.next = new_node\n",
        "\n",
        "  def prepend(self, data):\n",
        "    new_node = Node(data)\n",
        "    if self.head is None:\n",
        "      self.head = new_node\n",
        "    else:\n",
        "      temp = self.head\n",
        "      new_node.next = temp\n",
        "      temp.prev = new_node\n",
        "      self.head = new_node\n",
        "      \n",
        "      \n",
        "\n",
        "  def display(self):\n",
        "    temp = self.head\n",
        "    while temp:\n",
        "      print (temp.data)\n",
        "      temp = temp.next"
      ],
      "metadata": {
        "id": "LkyI4bSw3UX7"
      },
      "execution_count": null,
      "outputs": []
    },
    {
      "cell_type": "code",
      "source": [
        "test_5 = Dllist()\n",
        "test_5.append(1)\n",
        "test_5.append(2)\n",
        "test_5.append(3)\n",
        "test_5.append(4)\n",
        "test_5.append(5)\n",
        "test_5.display()"
      ],
      "metadata": {
        "colab": {
          "base_uri": "https://localhost:8080/"
        },
        "id": "bsKZIf3URcuB",
        "outputId": "33b6250d-885a-49ec-fa10-d9f2cd23d449"
      },
      "execution_count": null,
      "outputs": [
        {
          "output_type": "stream",
          "name": "stdout",
          "text": [
            "1\n",
            "2\n",
            "3\n",
            "4\n",
            "5\n"
          ]
        }
      ]
    },
    {
      "cell_type": "code",
      "source": [
        "\n",
        "test_5.prepend(0)\n",
        "test_5.display()"
      ],
      "metadata": {
        "colab": {
          "base_uri": "https://localhost:8080/"
        },
        "id": "twM1GCYgSco6",
        "outputId": "45d9e515-05b1-4b9c-9392-b2ca6765151b"
      },
      "execution_count": null,
      "outputs": [
        {
          "output_type": "stream",
          "name": "stdout",
          "text": [
            "0\n",
            "1\n",
            "2\n",
            "3\n",
            "4\n",
            "5\n"
          ]
        }
      ]
    },
    {
      "cell_type": "code",
      "source": [
        "test_6 = Dllist()\n",
        "test_6.prepend(5)\n",
        "test_6.prepend(4)\n",
        "test_6.prepend(3)\n",
        "test_6.prepend(2)\n",
        "test_6.prepend(1)\n",
        "test_6.display()"
      ],
      "metadata": {
        "colab": {
          "base_uri": "https://localhost:8080/"
        },
        "id": "b5JTRAa_So78",
        "outputId": "7bafc350-fc31-4b44-b08d-d6514db67a0b"
      },
      "execution_count": null,
      "outputs": [
        {
          "output_type": "stream",
          "name": "stdout",
          "text": [
            "1\n",
            "2\n",
            "3\n",
            "4\n",
            "5\n"
          ]
        }
      ]
    },
    {
      "cell_type": "markdown",
      "source": [
        "## How to transition to a Binary Search Tree"
      ],
      "metadata": {
        "id": "KGO5QKJBSPuU"
      }
    },
    {
      "cell_type": "code",
      "source": [
        "# class BinarySearchTree:\n",
        "#   def __init__(self, data):\n",
        "#     self.data = data \n",
        "#     self.left = None\n",
        "#     self.right = None\n",
        "\n",
        "#   def add_child(self, data):\n",
        "#     # bst does not allow duplicates \n",
        "#     if self.data == data:\n",
        "#       return \"Binary Search Trees do not allow duplicates\"\n",
        "    \n",
        "#     # bst has a specific order (small to the left large to the right)\n",
        "#     # if small go to the left\n",
        "#     if data < self.data:\n",
        "#       # if left has a value already\n",
        "#       if self.left:\n",
        "#         self.left.add_child(data)\n",
        "#       # if it does not?\n",
        "#       else:\n",
        "#         self.left = BinarySearchTree(data)\n",
        "\n",
        "#     # if greater go to the right\n",
        "#     else:\n",
        "#       if self.right:\n",
        "#         # just add a child, don't set because that will replace the orignal self.right\n",
        "#         self.right.add_child(data)\n",
        "#       else:\n",
        "#         # set the right as the new bst node\n",
        "#         self.right = BinarySearchTree(data)\n",
        "\n",
        "#   def inorder_traversal(self):\n",
        "#     elements = []\n",
        "\n",
        "#     if self.left:\n",
        "#       elements += self.left.inorder_traversal()\n",
        "\n",
        "#     elements.append(self.data)\n",
        "\n",
        "#     if self.right:\n",
        "#       elements += self.right.inorder_traversal()\n",
        "\n",
        "#     return elements\n",
        "\n",
        "\n",
        "\n",
        "\n",
        "\n",
        "\n",
        "# # helper function to build a tree from a list\n",
        "# def build_tree(elements):\n",
        "#   root = BinarySearchTree(elements[0])\n",
        "#   for val in range(1,len(elements)):\n",
        "#     root.add_child(elements[val])\n",
        "\n",
        "#   return root\n",
        "    \n",
        "        \n",
        "\n",
        "\n",
        "        "
      ],
      "metadata": {
        "id": "zNbPU-daPLhW"
      },
      "execution_count": 105,
      "outputs": []
    },
    {
      "cell_type": "code",
      "source": [
        "class BinarySearchTree:\n",
        "  def __init__(self,data):\n",
        "    self.data = data\n",
        "    self.right = None\n",
        "    self.left = None\n",
        "\n",
        "  def add_child(self, child):\n",
        "    if child == self.data:\n",
        "      return \" Binary Search Tree does not allow duplicates\"\n",
        "\n",
        "    if child < self.data:\n",
        "      if self.left:\n",
        "        self.left.add_child(child)\n",
        "      else:\n",
        "        self.left = BinarySearchTree(child)\n",
        "\n",
        "    if child > self.data:\n",
        "      if self.right:\n",
        "        self.right.add_child(child)\n",
        "      else:\n",
        "        self.right = BinarySearchTree(child)\n",
        "\n",
        "  def in_order_traversal(self):\n",
        "    '''left -> root -> right'''\n",
        "    elements = []\n",
        "    if self.left:\n",
        "      elements += self.left.in_order_traversal()\n",
        "\n",
        "    elements.append(self.data)\n",
        "\n",
        "    if self.right:\n",
        "      elements += self.right.in_order_traversal()\n",
        "\n",
        "    return elements\n",
        "\n",
        "  def pre_order_traversal(self):\n",
        "    ''' root -> left -> right'''\n",
        "    elements = []\n",
        "    elements.append(self.data)\n",
        "\n",
        "    if self.left:\n",
        "      elements += self.left.pre_order_traversal()\n",
        "    \n",
        "    if self.right:\n",
        "      elements += self.right.pre_order_traversal()\n",
        "    \n",
        "    return elements\n",
        "  \n",
        "  def post_order_traversal(self):\n",
        "    '''left -> right -> root'''\n",
        "    elements = []\n",
        "    if self.left:\n",
        "      elements += self.left.post_order_traversal()\n",
        "\n",
        "    if self.right:\n",
        "      elements += self.right.post_order_traversal()\n",
        "\n",
        "    elements.append(self.data)\n",
        "\n",
        "    return elements\n",
        "\n",
        "  def build_tree(elements):\n",
        "    root = BinarySearchTree(elements[0])\n",
        "    for i in range(1, len(elements)):\n",
        "      root.add_child(elements[i])\n",
        "\n",
        "    return root\n"
      ],
      "metadata": {
        "id": "tlZ9cnuG14dh"
      },
      "execution_count": 121,
      "outputs": []
    },
    {
      "cell_type": "code",
      "source": [
        "elements = list(map(int, input().rstrip().split()))\n",
        "test_7 = build_tree(elements)\n"
      ],
      "metadata": {
        "id": "1QxeSX-fWhxY",
        "outputId": "e4bba3bd-58be-422b-e2e7-64ecf9b4356d",
        "colab": {
          "base_uri": "https://localhost:8080/"
        }
      },
      "execution_count": 122,
      "outputs": [
        {
          "name": "stdout",
          "output_type": "stream",
          "text": [
            "45 12 9 5 87 99 24 56 77 19 34 44\n"
          ]
        }
      ]
    },
    {
      "cell_type": "code",
      "source": [
        "test_7.in_order_traversal()"
      ],
      "metadata": {
        "id": "f7jSdw3gcpMV",
        "outputId": "cf89899c-03cb-4191-b47d-135eb4e98a24",
        "colab": {
          "base_uri": "https://localhost:8080/"
        }
      },
      "execution_count": 124,
      "outputs": [
        {
          "output_type": "execute_result",
          "data": {
            "text/plain": [
              "[5, 9, 12, 19, 24, 34, 44, 45, 56, 77, 87, 99]"
            ]
          },
          "metadata": {},
          "execution_count": 124
        }
      ]
    },
    {
      "cell_type": "code",
      "source": [
        "test_7.pre_order_traversal()"
      ],
      "metadata": {
        "colab": {
          "base_uri": "https://localhost:8080/"
        },
        "id": "gcU3b43bqopu",
        "outputId": "955dec87-9f42-46a5-ff25-96928a75b4b0"
      },
      "execution_count": 125,
      "outputs": [
        {
          "output_type": "execute_result",
          "data": {
            "text/plain": [
              "[45, 12, 9, 5, 24, 19, 34, 44, 87, 56, 77, 99]"
            ]
          },
          "metadata": {},
          "execution_count": 125
        }
      ]
    },
    {
      "cell_type": "code",
      "source": [
        "test_7.post_order_traversal()"
      ],
      "metadata": {
        "id": "rTqqFFI248Q_",
        "outputId": "e77725c6-f15a-4b0e-f06e-1addf2e2339b",
        "colab": {
          "base_uri": "https://localhost:8080/"
        }
      },
      "execution_count": 126,
      "outputs": [
        {
          "output_type": "execute_result",
          "data": {
            "text/plain": [
              "[5, 9, 19, 44, 34, 24, 12, 77, 56, 99, 87, 45]"
            ]
          },
          "metadata": {},
          "execution_count": 126
        }
      ]
    },
    {
      "cell_type": "markdown",
      "source": [
        "### Revisiting 2d arrays"
      ],
      "metadata": {
        "id": "a12zhyrpqpl7"
      }
    },
    {
      "cell_type": "code",
      "source": [
        "def diagonal_sum(array):\n",
        "  sum = 0\n",
        "  for i in range(len(array)):\n",
        "    sum += array[i][i]\n",
        "  return sum\n",
        "\n",
        "\n",
        "array_1 = [[10,20,30],[11,22,33],[34,56,74]]"
      ],
      "metadata": {
        "id": "FcWnBLCCgn-T"
      },
      "execution_count": 2,
      "outputs": []
    },
    {
      "cell_type": "code",
      "source": [
        "diagonal_sum(array_1)"
      ],
      "metadata": {
        "colab": {
          "base_uri": "https://localhost:8080/"
        },
        "id": "GcleUcSrV2W0",
        "outputId": "9064a333-d8aa-4ae1-9402-99dbf88e8a52"
      },
      "execution_count": 3,
      "outputs": [
        {
          "output_type": "execute_result",
          "data": {
            "text/plain": [
              "106"
            ]
          },
          "metadata": {},
          "execution_count": 3
        }
      ]
    },
    {
      "cell_type": "code",
      "source": [
        "def chess_rooks(chessboard):\n",
        "  length = len(chessboard)\n",
        "  result = False\n",
        "  for row in range(length):\n",
        "    total_row = total_col = 0\n",
        "    for col in range(length):\n",
        "      total_row += chessboard[row][col]\n",
        "      total_col += chessboard[col][row]\n",
        "\n",
        "      if total_row > 1 or total_col >1:\n",
        "        result = True\n",
        "\n",
        "  return result\n",
        "      "
      ],
      "metadata": {
        "id": "2oPH-CzeWIyZ"
      },
      "execution_count": 87,
      "outputs": []
    },
    {
      "cell_type": "code",
      "source": [
        "chess_1 = [[1,0,0,0],[0,1,0,0],[0,0,0,1],[0,0,0,0]]"
      ],
      "metadata": {
        "id": "QsGE3dwfbeTi"
      },
      "execution_count": 88,
      "outputs": []
    },
    {
      "cell_type": "code",
      "source": [
        "chess_rooks(chess_1)"
      ],
      "metadata": {
        "colab": {
          "base_uri": "https://localhost:8080/"
        },
        "id": "KHWzE_Cdbp37",
        "outputId": "3e70c3f9-fcf5-49a3-bd1c-d7c901da1590"
      },
      "execution_count": 89,
      "outputs": [
        {
          "output_type": "execute_result",
          "data": {
            "text/plain": [
              "False"
            ]
          },
          "metadata": {},
          "execution_count": 89
        }
      ]
    },
    {
      "cell_type": "code",
      "source": [
        "chess_2 = [[1,0,0,0],[0,1,0,1],[0,0,0,1],[0,0,0,0]]\n",
        "chess_rooks(chess_2)"
      ],
      "metadata": {
        "colab": {
          "base_uri": "https://localhost:8080/"
        },
        "id": "Xt8BrSCebse3",
        "outputId": "beedf361-1d64-47e7-c325-c2328543986e"
      },
      "execution_count": 90,
      "outputs": [
        {
          "output_type": "execute_result",
          "data": {
            "text/plain": [
              "True"
            ]
          },
          "metadata": {},
          "execution_count": 90
        }
      ]
    },
    {
      "cell_type": "code",
      "source": [],
      "metadata": {
        "id": "h177hhO3b05r"
      },
      "execution_count": null,
      "outputs": []
    }
  ]
}